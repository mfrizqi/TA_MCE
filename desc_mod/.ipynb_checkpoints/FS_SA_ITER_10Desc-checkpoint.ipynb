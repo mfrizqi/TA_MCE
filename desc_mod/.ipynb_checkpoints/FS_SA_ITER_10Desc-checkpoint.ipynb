{
 "cells": [
  {
   "cell_type": "code",
   "execution_count": 6,
   "metadata": {
    "code_folding": []
   },
   "outputs": [],
   "source": [
    "# Libraries\n",
    "import winsound\n",
    "import warnings\n",
    "import pandas as pd \n",
    "import numpy as np\n",
    "import pickle \n",
    "from tqdm import tqdm\n",
    "import matplotlib.pyplot as plt\n",
    "from sklearn.linear_model import LinearRegression\n",
    "from sklearn.model_selection import train_test_split\n",
    "from sklearn.metrics import mean_squared_error\n",
    "from itertools import combinations\n",
    "from itertools import permutations"
   ]
  },
  {
   "cell_type": "code",
   "execution_count": 7,
   "metadata": {
    "code_folding": [
     0,
     5,
     8
    ]
   },
   "outputs": [],
   "source": [
    "# Functions\n",
    "def beepEnd():\n",
    "    d = 200\n",
    "    freq = [3000,5000,3000,5000]\n",
    "    for i in freq:\n",
    "        winsound.Beep(i, d)\n",
    "def acceptanceProbability (bestMSE, newMSE, temp , K):\n",
    "        # If the new solution is worse, calculate an acceptance probability\n",
    "        return np.exp( K * (newMSE - bestMSE) / temp)\n",
    "def calcMSE(combDesc, x_train, x_val, y_train, y_val, model):\n",
    "    x_train_slice = x_train.iloc[:,combDesc]\n",
    "    x_val_slice = x_val.iloc[:,combDesc]\n",
    "    model.fit(x_train_slice, y_train)\n",
    "    y_pred = model.predict(x_val_slice)\n",
    "    return mean_squared_error(y_val, y_pred)\n",
    "warnings.filterwarnings('ignore')"
   ]
  },
  {
   "cell_type": "code",
   "execution_count": 8,
   "metadata": {},
   "outputs": [],
   "source": [
    "dtTrain = pickle.load(open('./pickle/train_reduced.pkl','rb'))\n",
    "descName = dtTrain.columns.to_list()"
   ]
  },
  {
   "cell_type": "code",
   "execution_count": 9,
   "metadata": {
    "code_folding": []
   },
   "outputs": [],
   "source": [
    "##### Preparation Data #####\n",
    "\n",
    "train, val = train_test_split(dtTrain, test_size = 0.2, random_state = 45)\n",
    "\n",
    "x_train = train.iloc[:,:-1]\n",
    "x_val = val.iloc[:,:-1]\n",
    "y_train = train.iloc[:, [-1]]\n",
    "y_val = val.iloc[:,[-1]]\n",
    "\n",
    "model = LinearRegression()"
   ]
  },
  {
   "cell_type": "code",
   "execution_count": 11,
   "metadata": {
    "code_folding": [],
    "scrolled": true
   },
   "outputs": [
    {
     "name": "stderr",
     "output_type": "stream",
     "text": [
      "100%|██████████████████████████████████████████████████████████████████████████████████| 20/20 [02:56<00:00,  8.84s/it]\n"
     ]
    }
   ],
   "source": [
    "##### INTO DE SA DE LA'SOIN #####\n",
    "descNum = 10\n",
    "descMSE_20 = []\n",
    "\n",
    "for j in tqdm(range(20)):\n",
    "    # 3.1Initiate Values\n",
    "    initTemp, temp = 100, 100\n",
    "    tempEnd = 0.1\n",
    "    cooling_rate = 0.98\n",
    "    iteration = 5 \n",
    "\n",
    "    # 3.1 Simulated Annealing\n",
    "    bestList = []\n",
    "    bestMSEList = []\n",
    "    sounded = True\n",
    "\n",
    "    # 3.2 Initialize solution & Best MSE (Random 6 descriptor)\n",
    "    bestSol = np.random.choice(x_train.shape[1],descNum, replace=False)\n",
    "    bestSol = list(bestSol)\n",
    "    bestSol.sort()\n",
    "\n",
    "    # 3.3 MSE\n",
    "    bestMSE = calcMSE(bestSol, x_train, x_val, y_train, y_val, model)\n",
    "    while temp > tempEnd:\n",
    "        for i in range(iteration):\n",
    "\n",
    "            # 3.3.1 Create new solution & new MSE\n",
    "            newSol = np.random.choice(x_train.shape[1], descNum, replace=False)\n",
    "            newMSE = calcMSE(newSol, x_train, x_val, y_train, y_val, model)\n",
    "            deltaMSE = newMSE - bestMSE\n",
    "            K = (initTemp * np.log(0.8)) / deltaMSE\n",
    "\n",
    "            if newMSE < bestMSE :\n",
    "                bestMSE = newMSE\n",
    "                bestSol = newSol\n",
    "                bestList.append([bestMSE,bestSol])\n",
    "            else :\n",
    "                if acceptanceProbability (bestMSE, newMSE, temp , K) > np.random.rand(0,1):\n",
    "                    bestMSE = newMSE\n",
    "                    bestSol = newSol\n",
    "                    bestList.append([bestMSE,bestSol])\n",
    "\n",
    "        temp *= cooling_rate\n",
    "        bestMSEList.append(bestMSE)\n",
    "\n",
    "    descMSE_20.append([bestList[-1][0],bestList[-1][1],bestMSEList])\n",
    "beepEnd()"
   ]
  },
  {
   "cell_type": "code",
   "execution_count": 12,
   "metadata": {},
   "outputs": [
    {
     "data": {
      "text/html": [
       "<div>\n",
       "<style scoped>\n",
       "    .dataframe tbody tr th:only-of-type {\n",
       "        vertical-align: middle;\n",
       "    }\n",
       "\n",
       "    .dataframe tbody tr th {\n",
       "        vertical-align: top;\n",
       "    }\n",
       "\n",
       "    .dataframe thead th {\n",
       "        text-align: right;\n",
       "    }\n",
       "</style>\n",
       "<table border=\"1\" class=\"dataframe\">\n",
       "  <thead>\n",
       "    <tr style=\"text-align: right;\">\n",
       "      <th></th>\n",
       "      <th>0</th>\n",
       "      <th>1</th>\n",
       "      <th>2</th>\n",
       "    </tr>\n",
       "  </thead>\n",
       "  <tbody>\n",
       "    <tr>\n",
       "      <th>0</th>\n",
       "      <td>0.256890</td>\n",
       "      <td>[7, 51, 12, 48, 54, 67, 40, 31, 68, 11]</td>\n",
       "      <td>[0.36649951380792734, 0.36649951380792734, 0.3...</td>\n",
       "    </tr>\n",
       "    <tr>\n",
       "      <th>1</th>\n",
       "      <td>0.240791</td>\n",
       "      <td>[35, 46, 11, 45, 16, 68, 8, 51, 31, 43]</td>\n",
       "      <td>[0.527686102779039, 0.527686102779039, 0.35649...</td>\n",
       "    </tr>\n",
       "    <tr>\n",
       "      <th>2</th>\n",
       "      <td>0.292812</td>\n",
       "      <td>[6, 62, 18, 11, 52, 58, 55, 3, 60, 51]</td>\n",
       "      <td>[0.3264782170128731, 0.3264782170128731, 0.326...</td>\n",
       "    </tr>\n",
       "    <tr>\n",
       "      <th>3</th>\n",
       "      <td>0.274468</td>\n",
       "      <td>[67, 24, 30, 31, 3, 59, 21, 1, 18, 51]</td>\n",
       "      <td>[0.32451836014588586, 0.32451836014588586, 0.3...</td>\n",
       "    </tr>\n",
       "    <tr>\n",
       "      <th>4</th>\n",
       "      <td>0.281755</td>\n",
       "      <td>[31, 57, 23, 18, 69, 41, 26, 51, 50, 65]</td>\n",
       "      <td>[0.5425207715634532, 0.3656304734288319, 0.365...</td>\n",
       "    </tr>\n",
       "    <tr>\n",
       "      <th>5</th>\n",
       "      <td>0.239063</td>\n",
       "      <td>[27, 45, 55, 42, 40, 7, 34, 19, 37, 51]</td>\n",
       "      <td>[0.4481676273602903, 0.410516478049366, 0.4105...</td>\n",
       "    </tr>\n",
       "    <tr>\n",
       "      <th>6</th>\n",
       "      <td>0.247613</td>\n",
       "      <td>[28, 17, 68, 33, 3, 26, 7, 31, 53, 57]</td>\n",
       "      <td>[0.4493047980749383, 0.36861157310402193, 0.36...</td>\n",
       "    </tr>\n",
       "    <tr>\n",
       "      <th>7</th>\n",
       "      <td>0.203355</td>\n",
       "      <td>[1, 67, 3, 8, 55, 63, 64, 52, 39, 53]</td>\n",
       "      <td>[0.4569981449657339, 0.4569981449657339, 0.456...</td>\n",
       "    </tr>\n",
       "    <tr>\n",
       "      <th>8</th>\n",
       "      <td>0.258850</td>\n",
       "      <td>[35, 53, 51, 29, 22, 25, 52, 56, 1, 45]</td>\n",
       "      <td>[0.4485857062669999, 0.4485857062669999, 0.448...</td>\n",
       "    </tr>\n",
       "    <tr>\n",
       "      <th>9</th>\n",
       "      <td>0.256129</td>\n",
       "      <td>[31, 51, 68, 10, 54, 24, 11, 14, 26, 45]</td>\n",
       "      <td>[0.4784859319730119, 0.43464793481436864, 0.43...</td>\n",
       "    </tr>\n",
       "    <tr>\n",
       "      <th>10</th>\n",
       "      <td>0.259307</td>\n",
       "      <td>[42, 56, 14, 1, 8, 3, 51, 61, 53, 60]</td>\n",
       "      <td>[0.4484457653856397, 0.3412683733780651, 0.341...</td>\n",
       "    </tr>\n",
       "    <tr>\n",
       "      <th>11</th>\n",
       "      <td>0.263128</td>\n",
       "      <td>[64, 18, 48, 12, 36, 7, 61, 41, 55, 58]</td>\n",
       "      <td>[0.40101248643823373, 0.3745516110371206, 0.37...</td>\n",
       "    </tr>\n",
       "    <tr>\n",
       "      <th>12</th>\n",
       "      <td>0.236143</td>\n",
       "      <td>[36, 18, 65, 69, 26, 55, 13, 61, 42, 67]</td>\n",
       "      <td>[0.4115875571063462, 0.3955189436383542, 0.395...</td>\n",
       "    </tr>\n",
       "    <tr>\n",
       "      <th>13</th>\n",
       "      <td>0.239473</td>\n",
       "      <td>[8, 68, 51, 31, 39, 24, 36, 3, 11, 58]</td>\n",
       "      <td>[0.351780185668418, 0.351780185668418, 0.35178...</td>\n",
       "    </tr>\n",
       "    <tr>\n",
       "      <th>14</th>\n",
       "      <td>0.262863</td>\n",
       "      <td>[38, 23, 40, 45, 69, 70, 14, 8, 53, 43]</td>\n",
       "      <td>[0.48812736980435056, 0.4147522812557921, 0.41...</td>\n",
       "    </tr>\n",
       "    <tr>\n",
       "      <th>15</th>\n",
       "      <td>0.265654</td>\n",
       "      <td>[35, 64, 58, 51, 31, 18, 43, 67, 22, 1]</td>\n",
       "      <td>[0.5756017644293402, 0.42132808044931724, 0.42...</td>\n",
       "    </tr>\n",
       "    <tr>\n",
       "      <th>16</th>\n",
       "      <td>0.235161</td>\n",
       "      <td>[20, 1, 37, 69, 31, 14, 45, 30, 51, 18]</td>\n",
       "      <td>[0.4274774248435435, 0.4274774248435435, 0.427...</td>\n",
       "    </tr>\n",
       "    <tr>\n",
       "      <th>17</th>\n",
       "      <td>0.275828</td>\n",
       "      <td>[31, 40, 49, 18, 22, 58, 30, 55, 69, 8]</td>\n",
       "      <td>[0.45026305204452094, 0.45026305204452094, 0.4...</td>\n",
       "    </tr>\n",
       "    <tr>\n",
       "      <th>18</th>\n",
       "      <td>0.273060</td>\n",
       "      <td>[43, 1, 28, 18, 41, 13, 27, 37, 55, 58]</td>\n",
       "      <td>[0.4175095329163093, 0.4175095329163093, 0.417...</td>\n",
       "    </tr>\n",
       "    <tr>\n",
       "      <th>19</th>\n",
       "      <td>0.248906</td>\n",
       "      <td>[62, 58, 31, 42, 28, 63, 38, 68, 46, 35]</td>\n",
       "      <td>[0.35051074535991616, 0.35051074535991616, 0.3...</td>\n",
       "    </tr>\n",
       "  </tbody>\n",
       "</table>\n",
       "</div>"
      ],
      "text/plain": [
       "           0                                         1  \\\n",
       "0   0.256890   [7, 51, 12, 48, 54, 67, 40, 31, 68, 11]   \n",
       "1   0.240791   [35, 46, 11, 45, 16, 68, 8, 51, 31, 43]   \n",
       "2   0.292812    [6, 62, 18, 11, 52, 58, 55, 3, 60, 51]   \n",
       "3   0.274468    [67, 24, 30, 31, 3, 59, 21, 1, 18, 51]   \n",
       "4   0.281755  [31, 57, 23, 18, 69, 41, 26, 51, 50, 65]   \n",
       "5   0.239063   [27, 45, 55, 42, 40, 7, 34, 19, 37, 51]   \n",
       "6   0.247613    [28, 17, 68, 33, 3, 26, 7, 31, 53, 57]   \n",
       "7   0.203355     [1, 67, 3, 8, 55, 63, 64, 52, 39, 53]   \n",
       "8   0.258850   [35, 53, 51, 29, 22, 25, 52, 56, 1, 45]   \n",
       "9   0.256129  [31, 51, 68, 10, 54, 24, 11, 14, 26, 45]   \n",
       "10  0.259307     [42, 56, 14, 1, 8, 3, 51, 61, 53, 60]   \n",
       "11  0.263128   [64, 18, 48, 12, 36, 7, 61, 41, 55, 58]   \n",
       "12  0.236143  [36, 18, 65, 69, 26, 55, 13, 61, 42, 67]   \n",
       "13  0.239473    [8, 68, 51, 31, 39, 24, 36, 3, 11, 58]   \n",
       "14  0.262863   [38, 23, 40, 45, 69, 70, 14, 8, 53, 43]   \n",
       "15  0.265654   [35, 64, 58, 51, 31, 18, 43, 67, 22, 1]   \n",
       "16  0.235161   [20, 1, 37, 69, 31, 14, 45, 30, 51, 18]   \n",
       "17  0.275828   [31, 40, 49, 18, 22, 58, 30, 55, 69, 8]   \n",
       "18  0.273060   [43, 1, 28, 18, 41, 13, 27, 37, 55, 58]   \n",
       "19  0.248906  [62, 58, 31, 42, 28, 63, 38, 68, 46, 35]   \n",
       "\n",
       "                                                    2  \n",
       "0   [0.36649951380792734, 0.36649951380792734, 0.3...  \n",
       "1   [0.527686102779039, 0.527686102779039, 0.35649...  \n",
       "2   [0.3264782170128731, 0.3264782170128731, 0.326...  \n",
       "3   [0.32451836014588586, 0.32451836014588586, 0.3...  \n",
       "4   [0.5425207715634532, 0.3656304734288319, 0.365...  \n",
       "5   [0.4481676273602903, 0.410516478049366, 0.4105...  \n",
       "6   [0.4493047980749383, 0.36861157310402193, 0.36...  \n",
       "7   [0.4569981449657339, 0.4569981449657339, 0.456...  \n",
       "8   [0.4485857062669999, 0.4485857062669999, 0.448...  \n",
       "9   [0.4784859319730119, 0.43464793481436864, 0.43...  \n",
       "10  [0.4484457653856397, 0.3412683733780651, 0.341...  \n",
       "11  [0.40101248643823373, 0.3745516110371206, 0.37...  \n",
       "12  [0.4115875571063462, 0.3955189436383542, 0.395...  \n",
       "13  [0.351780185668418, 0.351780185668418, 0.35178...  \n",
       "14  [0.48812736980435056, 0.4147522812557921, 0.41...  \n",
       "15  [0.5756017644293402, 0.42132808044931724, 0.42...  \n",
       "16  [0.4274774248435435, 0.4274774248435435, 0.427...  \n",
       "17  [0.45026305204452094, 0.45026305204452094, 0.4...  \n",
       "18  [0.4175095329163093, 0.4175095329163093, 0.417...  \n",
       "19  [0.35051074535991616, 0.35051074535991616, 0.3...  "
      ]
     },
     "execution_count": 12,
     "metadata": {},
     "output_type": "execute_result"
    }
   ],
   "source": [
    "pd.DataFrame(descMSE_20)"
   ]
  },
  {
   "cell_type": "code",
   "execution_count": 14,
   "metadata": {
    "scrolled": true
   },
   "outputs": [
    {
     "data": {
      "text/html": [
       "<div>\n",
       "<style scoped>\n",
       "    .dataframe tbody tr th:only-of-type {\n",
       "        vertical-align: middle;\n",
       "    }\n",
       "\n",
       "    .dataframe tbody tr th {\n",
       "        vertical-align: top;\n",
       "    }\n",
       "\n",
       "    .dataframe thead th {\n",
       "        text-align: right;\n",
       "    }\n",
       "</style>\n",
       "<table border=\"1\" class=\"dataframe\">\n",
       "  <thead>\n",
       "    <tr style=\"text-align: right;\">\n",
       "      <th></th>\n",
       "      <th>MSE</th>\n",
       "      <th>solution</th>\n",
       "      <th>growth</th>\n",
       "    </tr>\n",
       "  </thead>\n",
       "  <tbody>\n",
       "    <tr>\n",
       "      <th>0</th>\n",
       "      <td>0.203355</td>\n",
       "      <td>[1, 67, 3, 8, 55, 63, 64, 52, 39, 53]</td>\n",
       "      <td>[0.4569981449657339, 0.4569981449657339, 0.456...</td>\n",
       "    </tr>\n",
       "    <tr>\n",
       "      <th>1</th>\n",
       "      <td>0.235161</td>\n",
       "      <td>[20, 1, 37, 69, 31, 14, 45, 30, 51, 18]</td>\n",
       "      <td>[0.4274774248435435, 0.4274774248435435, 0.427...</td>\n",
       "    </tr>\n",
       "    <tr>\n",
       "      <th>2</th>\n",
       "      <td>0.236143</td>\n",
       "      <td>[36, 18, 65, 69, 26, 55, 13, 61, 42, 67]</td>\n",
       "      <td>[0.4115875571063462, 0.3955189436383542, 0.395...</td>\n",
       "    </tr>\n",
       "    <tr>\n",
       "      <th>3</th>\n",
       "      <td>0.239063</td>\n",
       "      <td>[27, 45, 55, 42, 40, 7, 34, 19, 37, 51]</td>\n",
       "      <td>[0.4481676273602903, 0.410516478049366, 0.4105...</td>\n",
       "    </tr>\n",
       "    <tr>\n",
       "      <th>4</th>\n",
       "      <td>0.239473</td>\n",
       "      <td>[8, 68, 51, 31, 39, 24, 36, 3, 11, 58]</td>\n",
       "      <td>[0.351780185668418, 0.351780185668418, 0.35178...</td>\n",
       "    </tr>\n",
       "    <tr>\n",
       "      <th>5</th>\n",
       "      <td>0.240791</td>\n",
       "      <td>[35, 46, 11, 45, 16, 68, 8, 51, 31, 43]</td>\n",
       "      <td>[0.527686102779039, 0.527686102779039, 0.35649...</td>\n",
       "    </tr>\n",
       "    <tr>\n",
       "      <th>6</th>\n",
       "      <td>0.247613</td>\n",
       "      <td>[28, 17, 68, 33, 3, 26, 7, 31, 53, 57]</td>\n",
       "      <td>[0.4493047980749383, 0.36861157310402193, 0.36...</td>\n",
       "    </tr>\n",
       "    <tr>\n",
       "      <th>7</th>\n",
       "      <td>0.248906</td>\n",
       "      <td>[62, 58, 31, 42, 28, 63, 38, 68, 46, 35]</td>\n",
       "      <td>[0.35051074535991616, 0.35051074535991616, 0.3...</td>\n",
       "    </tr>\n",
       "    <tr>\n",
       "      <th>8</th>\n",
       "      <td>0.256129</td>\n",
       "      <td>[31, 51, 68, 10, 54, 24, 11, 14, 26, 45]</td>\n",
       "      <td>[0.4784859319730119, 0.43464793481436864, 0.43...</td>\n",
       "    </tr>\n",
       "    <tr>\n",
       "      <th>9</th>\n",
       "      <td>0.256890</td>\n",
       "      <td>[7, 51, 12, 48, 54, 67, 40, 31, 68, 11]</td>\n",
       "      <td>[0.36649951380792734, 0.36649951380792734, 0.3...</td>\n",
       "    </tr>\n",
       "    <tr>\n",
       "      <th>10</th>\n",
       "      <td>0.258850</td>\n",
       "      <td>[35, 53, 51, 29, 22, 25, 52, 56, 1, 45]</td>\n",
       "      <td>[0.4485857062669999, 0.4485857062669999, 0.448...</td>\n",
       "    </tr>\n",
       "    <tr>\n",
       "      <th>11</th>\n",
       "      <td>0.259307</td>\n",
       "      <td>[42, 56, 14, 1, 8, 3, 51, 61, 53, 60]</td>\n",
       "      <td>[0.4484457653856397, 0.3412683733780651, 0.341...</td>\n",
       "    </tr>\n",
       "    <tr>\n",
       "      <th>12</th>\n",
       "      <td>0.262863</td>\n",
       "      <td>[38, 23, 40, 45, 69, 70, 14, 8, 53, 43]</td>\n",
       "      <td>[0.48812736980435056, 0.4147522812557921, 0.41...</td>\n",
       "    </tr>\n",
       "    <tr>\n",
       "      <th>13</th>\n",
       "      <td>0.263128</td>\n",
       "      <td>[64, 18, 48, 12, 36, 7, 61, 41, 55, 58]</td>\n",
       "      <td>[0.40101248643823373, 0.3745516110371206, 0.37...</td>\n",
       "    </tr>\n",
       "    <tr>\n",
       "      <th>14</th>\n",
       "      <td>0.265654</td>\n",
       "      <td>[35, 64, 58, 51, 31, 18, 43, 67, 22, 1]</td>\n",
       "      <td>[0.5756017644293402, 0.42132808044931724, 0.42...</td>\n",
       "    </tr>\n",
       "    <tr>\n",
       "      <th>15</th>\n",
       "      <td>0.273060</td>\n",
       "      <td>[43, 1, 28, 18, 41, 13, 27, 37, 55, 58]</td>\n",
       "      <td>[0.4175095329163093, 0.4175095329163093, 0.417...</td>\n",
       "    </tr>\n",
       "    <tr>\n",
       "      <th>16</th>\n",
       "      <td>0.274468</td>\n",
       "      <td>[67, 24, 30, 31, 3, 59, 21, 1, 18, 51]</td>\n",
       "      <td>[0.32451836014588586, 0.32451836014588586, 0.3...</td>\n",
       "    </tr>\n",
       "    <tr>\n",
       "      <th>17</th>\n",
       "      <td>0.275828</td>\n",
       "      <td>[31, 40, 49, 18, 22, 58, 30, 55, 69, 8]</td>\n",
       "      <td>[0.45026305204452094, 0.45026305204452094, 0.4...</td>\n",
       "    </tr>\n",
       "    <tr>\n",
       "      <th>18</th>\n",
       "      <td>0.281755</td>\n",
       "      <td>[31, 57, 23, 18, 69, 41, 26, 51, 50, 65]</td>\n",
       "      <td>[0.5425207715634532, 0.3656304734288319, 0.365...</td>\n",
       "    </tr>\n",
       "    <tr>\n",
       "      <th>19</th>\n",
       "      <td>0.292812</td>\n",
       "      <td>[6, 62, 18, 11, 52, 58, 55, 3, 60, 51]</td>\n",
       "      <td>[0.3264782170128731, 0.3264782170128731, 0.326...</td>\n",
       "    </tr>\n",
       "  </tbody>\n",
       "</table>\n",
       "</div>"
      ],
      "text/plain": [
       "         MSE                                  solution  \\\n",
       "0   0.203355     [1, 67, 3, 8, 55, 63, 64, 52, 39, 53]   \n",
       "1   0.235161   [20, 1, 37, 69, 31, 14, 45, 30, 51, 18]   \n",
       "2   0.236143  [36, 18, 65, 69, 26, 55, 13, 61, 42, 67]   \n",
       "3   0.239063   [27, 45, 55, 42, 40, 7, 34, 19, 37, 51]   \n",
       "4   0.239473    [8, 68, 51, 31, 39, 24, 36, 3, 11, 58]   \n",
       "5   0.240791   [35, 46, 11, 45, 16, 68, 8, 51, 31, 43]   \n",
       "6   0.247613    [28, 17, 68, 33, 3, 26, 7, 31, 53, 57]   \n",
       "7   0.248906  [62, 58, 31, 42, 28, 63, 38, 68, 46, 35]   \n",
       "8   0.256129  [31, 51, 68, 10, 54, 24, 11, 14, 26, 45]   \n",
       "9   0.256890   [7, 51, 12, 48, 54, 67, 40, 31, 68, 11]   \n",
       "10  0.258850   [35, 53, 51, 29, 22, 25, 52, 56, 1, 45]   \n",
       "11  0.259307     [42, 56, 14, 1, 8, 3, 51, 61, 53, 60]   \n",
       "12  0.262863   [38, 23, 40, 45, 69, 70, 14, 8, 53, 43]   \n",
       "13  0.263128   [64, 18, 48, 12, 36, 7, 61, 41, 55, 58]   \n",
       "14  0.265654   [35, 64, 58, 51, 31, 18, 43, 67, 22, 1]   \n",
       "15  0.273060   [43, 1, 28, 18, 41, 13, 27, 37, 55, 58]   \n",
       "16  0.274468    [67, 24, 30, 31, 3, 59, 21, 1, 18, 51]   \n",
       "17  0.275828   [31, 40, 49, 18, 22, 58, 30, 55, 69, 8]   \n",
       "18  0.281755  [31, 57, 23, 18, 69, 41, 26, 51, 50, 65]   \n",
       "19  0.292812    [6, 62, 18, 11, 52, 58, 55, 3, 60, 51]   \n",
       "\n",
       "                                               growth  \n",
       "0   [0.4569981449657339, 0.4569981449657339, 0.456...  \n",
       "1   [0.4274774248435435, 0.4274774248435435, 0.427...  \n",
       "2   [0.4115875571063462, 0.3955189436383542, 0.395...  \n",
       "3   [0.4481676273602903, 0.410516478049366, 0.4105...  \n",
       "4   [0.351780185668418, 0.351780185668418, 0.35178...  \n",
       "5   [0.527686102779039, 0.527686102779039, 0.35649...  \n",
       "6   [0.4493047980749383, 0.36861157310402193, 0.36...  \n",
       "7   [0.35051074535991616, 0.35051074535991616, 0.3...  \n",
       "8   [0.4784859319730119, 0.43464793481436864, 0.43...  \n",
       "9   [0.36649951380792734, 0.36649951380792734, 0.3...  \n",
       "10  [0.4485857062669999, 0.4485857062669999, 0.448...  \n",
       "11  [0.4484457653856397, 0.3412683733780651, 0.341...  \n",
       "12  [0.48812736980435056, 0.4147522812557921, 0.41...  \n",
       "13  [0.40101248643823373, 0.3745516110371206, 0.37...  \n",
       "14  [0.5756017644293402, 0.42132808044931724, 0.42...  \n",
       "15  [0.4175095329163093, 0.4175095329163093, 0.417...  \n",
       "16  [0.32451836014588586, 0.32451836014588586, 0.3...  \n",
       "17  [0.45026305204452094, 0.45026305204452094, 0.4...  \n",
       "18  [0.5425207715634532, 0.3656304734288319, 0.365...  \n",
       "19  [0.3264782170128731, 0.3264782170128731, 0.326...  "
      ]
     },
     "execution_count": 14,
     "metadata": {},
     "output_type": "execute_result"
    }
   ],
   "source": [
    "dfBestDM = pd.DataFrame(descMSE_20)\n",
    "dfBestDM.columns=[\"MSE\",\"solution\",\"growth\"]\n",
    "dfBestDM.sort_values('MSE', inplace=True)\n",
    "dfBestDM.reset_index(drop=True, inplace= True)\n",
    "dfBestDM"
   ]
  },
  {
   "cell_type": "code",
   "execution_count": 15,
   "metadata": {},
   "outputs": [],
   "source": [
    "bestDescriptor = []\n",
    "for i in dfBestDM.iloc[0,1]:\n",
    "    bestDescriptor.append(descName[i])\n",
    "\n",
    "bestMSEGrowth = dfBestDM.iloc[0,2]"
   ]
  },
  {
   "cell_type": "code",
   "execution_count": 17,
   "metadata": {},
   "outputs": [],
   "source": [
    "# Pickle descriptor name\n",
    "pickle.dump(descMSE_20, open('./data/Raw_MSE10.pkl', 'wb'))\n",
    "pickle.dump(dfBestDM, open('./data/Evol_MSE10.pkl', 'wb'))\n",
    "pickle.dump(bestDescriptor, open('./data/bestDesc10.pkl', 'wb'))\n",
    "pickle.dump(bestMSEGrowth, open('./data/bestMSEGrowth10.pkl','wb'))"
   ]
  },
  {
   "cell_type": "code",
   "execution_count": 18,
   "metadata": {},
   "outputs": [],
   "source": [
    "MSE_Evol = pickle.load(open('./data/MSE_EvolutionV2.pkl', 'rb'))\n",
    "raw_MSE = pickle.load(open('./data/Raw_MSE10.pkl','rb'))"
   ]
  },
  {
   "cell_type": "code",
   "execution_count": 21,
   "metadata": {},
   "outputs": [
    {
     "ename": "TypeError",
     "evalue": "unsupported operand type(s) for +=: 'builtin_function_or_method' and 'int'",
     "output_type": "error",
     "traceback": [
      "\u001b[1;31m---------------------------------------------------------------------------\u001b[0m",
      "\u001b[1;31mTypeError\u001b[0m                                 Traceback (most recent call last)",
      "\u001b[1;32m<ipython-input-21-7bf3dd1198c0>\u001b[0m in \u001b[0;36m<module>\u001b[1;34m\u001b[0m\n\u001b[0;32m      1\u001b[0m \u001b[0mdf\u001b[0m \u001b[1;33m=\u001b[0m \u001b[0mraw_MSE\u001b[0m\u001b[1;33m\u001b[0m\u001b[1;33m\u001b[0m\u001b[0m\n\u001b[1;32m----> 2\u001b[1;33m \u001b[0mdf\u001b[0m\u001b[1;33m.\u001b[0m\u001b[0mindex\u001b[0m \u001b[1;33m+=\u001b[0m \u001b[1;36m1\u001b[0m\u001b[1;33m\u001b[0m\u001b[1;33m\u001b[0m\u001b[0m\n\u001b[0m\u001b[0;32m      3\u001b[0m \u001b[0mdfPlot\u001b[0m \u001b[1;33m=\u001b[0m \u001b[0mdf\u001b[0m\u001b[1;33m.\u001b[0m\u001b[0mplot\u001b[0m\u001b[1;33m.\u001b[0m\u001b[0mbar\u001b[0m\u001b[1;33m(\u001b[0m\u001b[1;33m)\u001b[0m\u001b[1;33m\u001b[0m\u001b[1;33m\u001b[0m\u001b[0m\n\u001b[0;32m      4\u001b[0m \u001b[0mdfPlot\u001b[0m\u001b[1;33m.\u001b[0m\u001b[0mset_xlabel\u001b[0m\u001b[1;33m(\u001b[0m\u001b[1;34m\"Iteration\"\u001b[0m\u001b[1;33m)\u001b[0m\u001b[1;33m\u001b[0m\u001b[1;33m\u001b[0m\u001b[0m\n\u001b[0;32m      5\u001b[0m \u001b[0mdfPlot\u001b[0m\u001b[1;33m.\u001b[0m\u001b[0mset_ylabel\u001b[0m\u001b[1;33m(\u001b[0m\u001b[1;34m\"MSE\"\u001b[0m\u001b[1;33m)\u001b[0m\u001b[1;33m\u001b[0m\u001b[1;33m\u001b[0m\u001b[0m\n",
      "\u001b[1;31mTypeError\u001b[0m: unsupported operand type(s) for +=: 'builtin_function_or_method' and 'int'"
     ]
    }
   ],
   "source": [
    "dfBestDM = MSE_Evol.sort_values('MSE', ascending=False)\n",
    "df = dfBestDM.reset_index(drop=True)\n",
    "df.index += 1\n",
    "dfPlot = df.plot.bar()\n",
    "dfPlot.set_xlabel(\"Iteration\")\n",
    "dfPlot.set_ylabel(\"MSE\")"
   ]
  },
  {
   "cell_type": "code",
   "execution_count": 10,
   "metadata": {},
   "outputs": [
    {
     "data": {
      "text/plain": [
       "Text(0, 0.5, 'MSE')"
      ]
     },
     "execution_count": 10,
     "metadata": {},
     "output_type": "execute_result"
    },
    {
     "data": {
      "image/png": "[encoded data removed]",
      "text/plain": [
       "<Figure size 432x288 with 1 Axes>"
      ]
     },
     "metadata": {
      "needs_background": "light"
     },
     "output_type": "display_data"
    }
   ],
   "source": [
    "type(MSE_Evol)\n",
    "# MSE_Evol\n",
    "dfBestDM = MSE_Evol.sort_values('MSE', ascending=False)\n",
    "df = dfBestDM.reset_index(drop=True)\n",
    "df.index += 1\n",
    "dfPlot = df.plot.bar()\n",
    "dfPlot.set_xlabel(\"Iteration\")\n",
    "dfPlot.set_ylabel(\"MSE\")"
   ]
  },
  {
   "cell_type": "code",
   "execution_count": null,
   "metadata": {},
   "outputs": [],
   "source": [
    "############## CUSTOMIZED CODE ##################################"
   ]
  },
  {
   "cell_type": "code",
   "execution_count": null,
   "metadata": {
    "scrolled": true
   },
   "outputs": [],
   "source": [
    "# bestMSEList\n",
    "dfBest.columns = [\"mse\",\"solution\"]\n",
    "dfBest.sort_values('mse', inplace=True)\n",
    "dfBest.reset_index(drop=True, inplace= True)\n",
    "dfBest"
   ]
  },
  {
   "cell_type": "code",
   "execution_count": null,
   "metadata": {},
   "outputs": [],
   "source": [
    "bestSolution = dfBest.loc[0,'solution']\n",
    "bestSolution = list(bestSolution)\n",
    "bestSolution.sort()\n",
    "bestSolution"
   ]
  },
  {
   "cell_type": "code",
   "execution_count": null,
   "metadata": {},
   "outputs": [],
   "source": [
    "bestDescriptor = []\n",
    "\n",
    "for i in bestSolution:\n",
    "    bestDescriptor.append(descName[i])\n",
    "bestDescriptor"
   ]
  },
  {
   "cell_type": "code",
   "execution_count": null,
   "metadata": {},
   "outputs": [],
   "source": [
    "mseNdarray = np.asarray(bestMSEList)\n",
    "type(mseNdarray)\n",
    "mseNdarray.dump(\"./bestMSEList_2.pkl\")\n",
    "dfBest.iloc[-1][1].dump(\"./bestDesc_2.pkl\")"
   ]
  },
  {
   "cell_type": "code",
   "execution_count": null,
   "metadata": {},
   "outputs": [],
   "source": [
    "len(mseNdarray)\n",
    "np.arange(0,len(mseNdarray),1)"
   ]
  },
  {
   "cell_type": "code",
   "execution_count": null,
   "metadata": {},
   "outputs": [],
   "source": [
    "import matplotlib.pyplot as plt\n",
    "import numpy as np\n",
    "\n",
    "#define variable x\n",
    "x = np.arange(0,len(mseNdarray),1)\n",
    "y = mseNdarray \n",
    "\n",
    "#plot the functions\n",
    "plt.grid()\n",
    "plt.xlabel(\"Iteration\")\n",
    "plt.ylabel(\"Mean Squared Error (MSE)\")\n",
    "\n",
    "plt.plot(x,y)"
   ]
  },
  {
   "cell_type": "code",
   "execution_count": null,
   "metadata": {},
   "outputs": [],
   "source": [
    "MSE_Evol = pickle.load(open('./data/MSE_EvolutionV2.pkl', 'rb'))\n",
    "bestDesc = pickle.load(open('./data/bestDescV2.pkl', 'rb'))\n",
    "bestMSEGrowth = pickle.load(open('./data/bestMSEGrowthV2.pkl', 'rb'))"
   ]
  },
  {
   "cell_type": "code",
   "execution_count": null,
   "metadata": {},
   "outputs": [],
   "source": [
    "bestDesc, MSE_Evol, bestMSEGrowth"
   ]
  },
  {
   "cell_type": "code",
   "execution_count": null,
   "metadata": {
    "scrolled": true
   },
   "outputs": [],
   "source": [
    "bestMSEGrowth"
   ]
  },
  {
   "cell_type": "code",
   "execution_count": null,
   "metadata": {
    "code_folding": [
     0
    ]
   },
   "outputs": [],
   "source": [
    "# First Best Run\n",
    "# BestDescriptors=  [31,18,54,36,8,51]\n",
    "# BestMSE =  0.24519892533514573\n",
    "\n",
    "# Second Best Run\n",
    "# Best Descriptors :  [53 61 18 69 36 34]\n",
    "# Best MSE :  0.22850883728849938\n",
    "\n",
    "# Best Descriptors :  [40 11  5 67 64 69]\n",
    "# Best MSE :  0.22858482530945248\n",
    "\n",
    "# Best Descriptors :  [38 51 55 58 36 18]\n",
    "# Best MSE :  0.20720460921006825"
   ]
  },
  {
   "cell_type": "code",
   "execution_count": null,
   "metadata": {
    "code_folding": [
     0
    ]
   },
   "outputs": [],
   "source": [
    "# ### Smallest Values before run 20s\n",
    "# bs = [38, 51, 55, 58, 36, 18]\n",
    "# bs.sort()\n",
    "# bs"
   ]
  },
  {
   "cell_type": "code",
   "execution_count": null,
   "metadata": {
    "code_folding": [
     0
    ]
   },
   "outputs": [],
   "source": [
    "# bds = []\n",
    "# for i in bs:\n",
    "#     bds.append(descName[i])\n",
    "# bds"
   ]
  },
  {
   "cell_type": "code",
   "execution_count": null,
   "metadata": {
    "code_folding": []
   },
   "outputs": [],
   "source": [
    "# pickle.dump(bds,open('./BestDescriptor.pkl','wb'))"
   ]
  }
 ],
 "metadata": {
  "kernelspec": {
   "display_name": "Python 3",
   "language": "python",
   "name": "python3"
  },
  "language_info": {
   "codemirror_mode": {
    "name": "ipython",
    "version": 3
   },
   "file_extension": ".py",
   "mimetype": "text/x-python",
   "name": "python",
   "nbconvert_exporter": "python",
   "pygments_lexer": "ipython3",
   "version": "3.8.2"
  }
 },
 "nbformat": 4,
 "nbformat_minor": 4
}
