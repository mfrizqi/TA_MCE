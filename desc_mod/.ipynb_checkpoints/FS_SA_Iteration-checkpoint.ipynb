{
 "cells": [
  {
   "cell_type": "code",
   "execution_count": 1,
   "metadata": {
    "code_folding": []
   },
   "outputs": [],
   "source": [
    "import winsound\n",
    "def beepEnd():\n",
    "    d = 200\n",
    "    freq = [3000,5000,3000,5000]\n",
    "    for i in freq:\n",
    "        winsound.Beep(i, d)\n",
    "        \n",
    "import warnings\n",
    "import pandas as pd \n",
    "import numpy as np\n",
    "import pickle \n",
    "from tqdm import tqdm\n",
    "import matplotlib.pyplot as plt\n",
    "from sklearn.linear_model import LinearRegression\n",
    "from sklearn.model_selection import train_test_split\n",
    "from sklearn.metrics import mean_squared_error\n",
    "from itertools import combinations\n",
    "from itertools import permutations\n"
   ]
  },
  {
   "cell_type": "code",
   "execution_count": 13,
   "metadata": {
    "code_folding": [
     13,
     17
    ]
   },
   "outputs": [
    {
     "data": {
      "text/plain": [
       "(74, 69)"
      ]
     },
     "execution_count": 13,
     "metadata": {},
     "output_type": "execute_result"
    }
   ],
   "source": [
    "def acceptanceProbability (bestMSE, newMSE, temp , K):\n",
    "        # If the new solution is worse, calculate an acceptance probability\n",
    "        return np.exp( K * (newMSE - bestMSE) / temp)\n",
    "    \n",
    "def calcMSE(combDesc, x_train, x_val, y_train, y_val, model):\n",
    "    x_train_slice = x_train.iloc[:,combDesc]\n",
    "    x_val_slice = x_val.iloc[:,combDesc]\n",
    "    model.fit(x_train_slice, y_train)\n",
    "    y_pred = model.predict(x_val_slice)\n",
    "    return mean_squared_error(y_val, y_pred)\n",
    "\n",
    "warnings.filterwarnings('ignore')\n",
    "\n",
    "dtTrain = pickle.load(open('./pickle/train_VOL2.pkl','rb'))\n",
    "dtTrain.shape"
   ]
  },
  {
   "cell_type": "code",
   "execution_count": 10,
   "metadata": {},
   "outputs": [],
   "source": [
    "descName = dtTrain.columns.to_list()"
   ]
  },
  {
   "cell_type": "code",
   "execution_count": 14,
   "metadata": {
    "code_folding": []
   },
   "outputs": [
    {
     "data": {
      "text/plain": [
       "((59, 68), (15, 68), (59, 1), (15, 1))"
      ]
     },
     "execution_count": 14,
     "metadata": {},
     "output_type": "execute_result"
    }
   ],
   "source": [
    "##### SIMULATED ANNEALING #####\n",
    "\n",
    "# 0. Preparation Data\n",
    "train, val = train_test_split(dtTrain, test_size = 0.2, random_state = 45)\n",
    "\n",
    "x_train = train.iloc[:,:-1]\n",
    "x_val = val.iloc[:,:-1]\n",
    "y_train = train.iloc[:, [-1]]\n",
    "y_val = val.iloc[:,[-1]]\n",
    "x_train.shape, x_val.shape, y_train.shape, y_val.shape"
   ]
  },
  {
   "cell_type": "code",
   "execution_count": 15,
   "metadata": {},
   "outputs": [],
   "source": [
    "model = LinearRegression()"
   ]
  },
  {
   "cell_type": "code",
   "execution_count": 16,
   "metadata": {
    "code_folding": [],
    "scrolled": true
   },
   "outputs": [
    {
     "name": "stderr",
     "output_type": "stream",
     "text": [
      "100%|██████████████████████████████████████████████████████████████████████████████████| 20/20 [02:51<00:00,  8.58s/it]\n"
     ]
    }
   ],
   "source": [
    "##### INTO DE SA DE LA'SOIN #####\n",
    "descNum = 6\n",
    "descMSE_20 = []\n",
    "\n",
    "for j in tqdm(range(20)):\n",
    "    # 3.1Initiate Values\n",
    "    initTemp, temp = 100, 100\n",
    "    tempEnd = 0.1\n",
    "    cooling_rate = 0.98\n",
    "    iteration = 5 \n",
    "\n",
    "    # 3.1 Simulated Annealing\n",
    "    bestList = []\n",
    "    bestMSEList = []\n",
    "    sounded = True\n",
    "\n",
    "    # 3.2 Initialize solution & Best MSE (Random 6 descriptor)\n",
    "    bestSol = np.random.choice(x_train.shape[1],descNum, replace=False)\n",
    "    bestSol = list(bestSol)\n",
    "    bestSol.sort()\n",
    "\n",
    "    # 3.3 MSE\n",
    "    bestMSE = calcMSE(bestSol, x_train, x_val, y_train, y_val, model)\n",
    "    while temp > tempEnd:\n",
    "        for i in range(iteration):\n",
    "\n",
    "            # 3.3.1 Create new solution & new MSE\n",
    "            newSol = np.random.choice(x_train.shape[1], descNum, replace=False)\n",
    "            newMSE = calcMSE(newSol, x_train, x_val, y_train, y_val, model)\n",
    "            deltaMSE = newMSE - bestMSE\n",
    "            K = (initTemp * np.log(0.8)) / deltaMSE\n",
    "\n",
    "            if newMSE < bestMSE :\n",
    "                bestMSE = newMSE\n",
    "                bestSol = newSol\n",
    "                bestList.append([bestMSE,bestSol])\n",
    "            else :\n",
    "                if acceptanceProbability (bestMSE, newMSE, temp , K) > np.random.rand(0,1):\n",
    "                    bestMSE = newMSE\n",
    "                    bestSol = newSol\n",
    "                    bestList.append([bestMSE,bestSol])\n",
    "\n",
    "        temp *= cooling_rate\n",
    "        bestMSEList.append(bestMSE)\n",
    "\n",
    "    descMSE_20.append([bestList[-1][0],bestList[-1][1],bestMSEList])\n",
    "beepEnd()"
   ]
  },
  {
   "cell_type": "code",
   "execution_count": 17,
   "metadata": {},
   "outputs": [
    {
     "data": {
      "text/html": [
       "<div>\n",
       "<style scoped>\n",
       "    .dataframe tbody tr th:only-of-type {\n",
       "        vertical-align: middle;\n",
       "    }\n",
       "\n",
       "    .dataframe tbody tr th {\n",
       "        vertical-align: top;\n",
       "    }\n",
       "\n",
       "    .dataframe thead th {\n",
       "        text-align: right;\n",
       "    }\n",
       "</style>\n",
       "<table border=\"1\" class=\"dataframe\">\n",
       "  <thead>\n",
       "    <tr style=\"text-align: right;\">\n",
       "      <th></th>\n",
       "      <th>0</th>\n",
       "      <th>1</th>\n",
       "      <th>2</th>\n",
       "    </tr>\n",
       "  </thead>\n",
       "  <tbody>\n",
       "    <tr>\n",
       "      <th>0</th>\n",
       "      <td>0.165357</td>\n",
       "      <td>[38, 58, 30, 27, 59, 48]</td>\n",
       "      <td>[0.2482226243833811, 0.2482226243833811, 0.248...</td>\n",
       "    </tr>\n",
       "    <tr>\n",
       "      <th>1</th>\n",
       "      <td>0.152376</td>\n",
       "      <td>[59, 24, 15, 52, 54, 3]</td>\n",
       "      <td>[0.2311297088246213, 0.2311297088246213, 0.231...</td>\n",
       "    </tr>\n",
       "    <tr>\n",
       "      <th>2</th>\n",
       "      <td>0.153514</td>\n",
       "      <td>[54, 29, 3, 62, 5, 57]</td>\n",
       "      <td>[0.20113562140712055, 0.20113562140712055, 0.2...</td>\n",
       "    </tr>\n",
       "    <tr>\n",
       "      <th>3</th>\n",
       "      <td>0.146774</td>\n",
       "      <td>[14, 54, 57, 7, 59, 65]</td>\n",
       "      <td>[0.2144537647782812, 0.2144537647782812, 0.214...</td>\n",
       "    </tr>\n",
       "    <tr>\n",
       "      <th>4</th>\n",
       "      <td>0.173147</td>\n",
       "      <td>[58, 12, 65, 0, 30, 23]</td>\n",
       "      <td>[0.247203221630084, 0.247203221630084, 0.23028...</td>\n",
       "    </tr>\n",
       "    <tr>\n",
       "      <th>5</th>\n",
       "      <td>0.154944</td>\n",
       "      <td>[59, 4, 62, 0, 30, 18]</td>\n",
       "      <td>[0.26029620712190155, 0.24041646516568171, 0.2...</td>\n",
       "    </tr>\n",
       "    <tr>\n",
       "      <th>6</th>\n",
       "      <td>0.141485</td>\n",
       "      <td>[21, 54, 59, 48, 26, 62]</td>\n",
       "      <td>[0.3330814299614094, 0.29708468801187915, 0.27...</td>\n",
       "    </tr>\n",
       "    <tr>\n",
       "      <th>7</th>\n",
       "      <td>0.143981</td>\n",
       "      <td>[56, 61, 54, 15, 49, 59]</td>\n",
       "      <td>[0.25498320995123497, 0.25498320995123497, 0.1...</td>\n",
       "    </tr>\n",
       "    <tr>\n",
       "      <th>8</th>\n",
       "      <td>0.130378</td>\n",
       "      <td>[27, 31, 59, 38, 23, 47]</td>\n",
       "      <td>[0.19363670957271462, 0.19363670957271462, 0.1...</td>\n",
       "    </tr>\n",
       "    <tr>\n",
       "      <th>9</th>\n",
       "      <td>0.103686</td>\n",
       "      <td>[54, 37, 59, 56, 44, 60]</td>\n",
       "      <td>[0.24819340060350528, 0.24819340060350528, 0.2...</td>\n",
       "    </tr>\n",
       "    <tr>\n",
       "      <th>10</th>\n",
       "      <td>0.142954</td>\n",
       "      <td>[0, 11, 27, 59, 44, 53]</td>\n",
       "      <td>[0.22610099053688199, 0.22610099053688199, 0.2...</td>\n",
       "    </tr>\n",
       "    <tr>\n",
       "      <th>11</th>\n",
       "      <td>0.125980</td>\n",
       "      <td>[59, 47, 27, 38, 31, 39]</td>\n",
       "      <td>[0.2557832939277691, 0.2557832939277691, 0.255...</td>\n",
       "    </tr>\n",
       "    <tr>\n",
       "      <th>12</th>\n",
       "      <td>0.151631</td>\n",
       "      <td>[27, 31, 59, 36, 21, 65]</td>\n",
       "      <td>[0.2967636553138359, 0.23310172952908786, 0.23...</td>\n",
       "    </tr>\n",
       "    <tr>\n",
       "      <th>13</th>\n",
       "      <td>0.162852</td>\n",
       "      <td>[32, 65, 59, 54, 5, 18]</td>\n",
       "      <td>[0.20870876986762799, 0.20870876986762799, 0.2...</td>\n",
       "    </tr>\n",
       "    <tr>\n",
       "      <th>14</th>\n",
       "      <td>0.147919</td>\n",
       "      <td>[27, 59, 53, 47, 46, 56]</td>\n",
       "      <td>[0.30050897416557576, 0.28647347792362826, 0.2...</td>\n",
       "    </tr>\n",
       "    <tr>\n",
       "      <th>15</th>\n",
       "      <td>0.142941</td>\n",
       "      <td>[36, 56, 57, 59, 45, 62]</td>\n",
       "      <td>[0.28697592170412617, 0.28697592170412617, 0.2...</td>\n",
       "    </tr>\n",
       "    <tr>\n",
       "      <th>16</th>\n",
       "      <td>0.140822</td>\n",
       "      <td>[18, 0, 62, 44, 67, 59]</td>\n",
       "      <td>[0.3233432002543631, 0.19966051707291904, 0.19...</td>\n",
       "    </tr>\n",
       "    <tr>\n",
       "      <th>17</th>\n",
       "      <td>0.153934</td>\n",
       "      <td>[24, 59, 54, 65, 36, 34]</td>\n",
       "      <td>[0.2917266076315779, 0.2917266076315779, 0.291...</td>\n",
       "    </tr>\n",
       "    <tr>\n",
       "      <th>18</th>\n",
       "      <td>0.123132</td>\n",
       "      <td>[57, 65, 54, 15, 31, 59]</td>\n",
       "      <td>[0.1975345659208734, 0.1975345659208734, 0.197...</td>\n",
       "    </tr>\n",
       "    <tr>\n",
       "      <th>19</th>\n",
       "      <td>0.161265</td>\n",
       "      <td>[59, 42, 24, 26, 12, 50]</td>\n",
       "      <td>[0.17798189030642794, 0.17798189030642794, 0.1...</td>\n",
       "    </tr>\n",
       "  </tbody>\n",
       "</table>\n",
       "</div>"
      ],
      "text/plain": [
       "           0                         1  \\\n",
       "0   0.165357  [38, 58, 30, 27, 59, 48]   \n",
       "1   0.152376   [59, 24, 15, 52, 54, 3]   \n",
       "2   0.153514    [54, 29, 3, 62, 5, 57]   \n",
       "3   0.146774   [14, 54, 57, 7, 59, 65]   \n",
       "4   0.173147   [58, 12, 65, 0, 30, 23]   \n",
       "5   0.154944    [59, 4, 62, 0, 30, 18]   \n",
       "6   0.141485  [21, 54, 59, 48, 26, 62]   \n",
       "7   0.143981  [56, 61, 54, 15, 49, 59]   \n",
       "8   0.130378  [27, 31, 59, 38, 23, 47]   \n",
       "9   0.103686  [54, 37, 59, 56, 44, 60]   \n",
       "10  0.142954   [0, 11, 27, 59, 44, 53]   \n",
       "11  0.125980  [59, 47, 27, 38, 31, 39]   \n",
       "12  0.151631  [27, 31, 59, 36, 21, 65]   \n",
       "13  0.162852   [32, 65, 59, 54, 5, 18]   \n",
       "14  0.147919  [27, 59, 53, 47, 46, 56]   \n",
       "15  0.142941  [36, 56, 57, 59, 45, 62]   \n",
       "16  0.140822   [18, 0, 62, 44, 67, 59]   \n",
       "17  0.153934  [24, 59, 54, 65, 36, 34]   \n",
       "18  0.123132  [57, 65, 54, 15, 31, 59]   \n",
       "19  0.161265  [59, 42, 24, 26, 12, 50]   \n",
       "\n",
       "                                                    2  \n",
       "0   [0.2482226243833811, 0.2482226243833811, 0.248...  \n",
       "1   [0.2311297088246213, 0.2311297088246213, 0.231...  \n",
       "2   [0.20113562140712055, 0.20113562140712055, 0.2...  \n",
       "3   [0.2144537647782812, 0.2144537647782812, 0.214...  \n",
       "4   [0.247203221630084, 0.247203221630084, 0.23028...  \n",
       "5   [0.26029620712190155, 0.24041646516568171, 0.2...  \n",
       "6   [0.3330814299614094, 0.29708468801187915, 0.27...  \n",
       "7   [0.25498320995123497, 0.25498320995123497, 0.1...  \n",
       "8   [0.19363670957271462, 0.19363670957271462, 0.1...  \n",
       "9   [0.24819340060350528, 0.24819340060350528, 0.2...  \n",
       "10  [0.22610099053688199, 0.22610099053688199, 0.2...  \n",
       "11  [0.2557832939277691, 0.2557832939277691, 0.255...  \n",
       "12  [0.2967636553138359, 0.23310172952908786, 0.23...  \n",
       "13  [0.20870876986762799, 0.20870876986762799, 0.2...  \n",
       "14  [0.30050897416557576, 0.28647347792362826, 0.2...  \n",
       "15  [0.28697592170412617, 0.28697592170412617, 0.2...  \n",
       "16  [0.3233432002543631, 0.19966051707291904, 0.19...  \n",
       "17  [0.2917266076315779, 0.2917266076315779, 0.291...  \n",
       "18  [0.1975345659208734, 0.1975345659208734, 0.197...  \n",
       "19  [0.17798189030642794, 0.17798189030642794, 0.1...  "
      ]
     },
     "execution_count": 17,
     "metadata": {},
     "output_type": "execute_result"
    }
   ],
   "source": [
    "pd.DataFrame(descMSE_20)"
   ]
  },
  {
   "cell_type": "code",
   "execution_count": 40,
   "metadata": {},
   "outputs": [
    {
     "data": {
      "text/html": [
       "<div>\n",
       "<style scoped>\n",
       "    .dataframe tbody tr th:only-of-type {\n",
       "        vertical-align: middle;\n",
       "    }\n",
       "\n",
       "    .dataframe tbody tr th {\n",
       "        vertical-align: top;\n",
       "    }\n",
       "\n",
       "    .dataframe thead th {\n",
       "        text-align: right;\n",
       "    }\n",
       "</style>\n",
       "<table border=\"1\" class=\"dataframe\">\n",
       "  <thead>\n",
       "    <tr style=\"text-align: right;\">\n",
       "      <th></th>\n",
       "      <th>MSE</th>\n",
       "      <th>solution</th>\n",
       "      <th>growth</th>\n",
       "    </tr>\n",
       "  </thead>\n",
       "  <tbody>\n",
       "    <tr>\n",
       "      <th>0</th>\n",
       "      <td>0.103686</td>\n",
       "      <td>[54, 37, 59, 56, 44, 60]</td>\n",
       "      <td>[0.24819340060350528, 0.24819340060350528, 0.2...</td>\n",
       "    </tr>\n",
       "    <tr>\n",
       "      <th>1</th>\n",
       "      <td>0.123132</td>\n",
       "      <td>[57, 65, 54, 15, 31, 59]</td>\n",
       "      <td>[0.1975345659208734, 0.1975345659208734, 0.197...</td>\n",
       "    </tr>\n",
       "    <tr>\n",
       "      <th>2</th>\n",
       "      <td>0.125980</td>\n",
       "      <td>[59, 47, 27, 38, 31, 39]</td>\n",
       "      <td>[0.2557832939277691, 0.2557832939277691, 0.255...</td>\n",
       "    </tr>\n",
       "    <tr>\n",
       "      <th>3</th>\n",
       "      <td>0.130378</td>\n",
       "      <td>[27, 31, 59, 38, 23, 47]</td>\n",
       "      <td>[0.19363670957271462, 0.19363670957271462, 0.1...</td>\n",
       "    </tr>\n",
       "    <tr>\n",
       "      <th>4</th>\n",
       "      <td>0.140822</td>\n",
       "      <td>[18, 0, 62, 44, 67, 59]</td>\n",
       "      <td>[0.3233432002543631, 0.19966051707291904, 0.19...</td>\n",
       "    </tr>\n",
       "    <tr>\n",
       "      <th>5</th>\n",
       "      <td>0.141485</td>\n",
       "      <td>[21, 54, 59, 48, 26, 62]</td>\n",
       "      <td>[0.3330814299614094, 0.29708468801187915, 0.27...</td>\n",
       "    </tr>\n",
       "    <tr>\n",
       "      <th>6</th>\n",
       "      <td>0.142941</td>\n",
       "      <td>[36, 56, 57, 59, 45, 62]</td>\n",
       "      <td>[0.28697592170412617, 0.28697592170412617, 0.2...</td>\n",
       "    </tr>\n",
       "    <tr>\n",
       "      <th>7</th>\n",
       "      <td>0.142954</td>\n",
       "      <td>[0, 11, 27, 59, 44, 53]</td>\n",
       "      <td>[0.22610099053688199, 0.22610099053688199, 0.2...</td>\n",
       "    </tr>\n",
       "    <tr>\n",
       "      <th>8</th>\n",
       "      <td>0.143981</td>\n",
       "      <td>[56, 61, 54, 15, 49, 59]</td>\n",
       "      <td>[0.25498320995123497, 0.25498320995123497, 0.1...</td>\n",
       "    </tr>\n",
       "    <tr>\n",
       "      <th>9</th>\n",
       "      <td>0.146774</td>\n",
       "      <td>[14, 54, 57, 7, 59, 65]</td>\n",
       "      <td>[0.2144537647782812, 0.2144537647782812, 0.214...</td>\n",
       "    </tr>\n",
       "    <tr>\n",
       "      <th>10</th>\n",
       "      <td>0.147919</td>\n",
       "      <td>[27, 59, 53, 47, 46, 56]</td>\n",
       "      <td>[0.30050897416557576, 0.28647347792362826, 0.2...</td>\n",
       "    </tr>\n",
       "    <tr>\n",
       "      <th>11</th>\n",
       "      <td>0.151631</td>\n",
       "      <td>[27, 31, 59, 36, 21, 65]</td>\n",
       "      <td>[0.2967636553138359, 0.23310172952908786, 0.23...</td>\n",
       "    </tr>\n",
       "    <tr>\n",
       "      <th>12</th>\n",
       "      <td>0.152376</td>\n",
       "      <td>[59, 24, 15, 52, 54, 3]</td>\n",
       "      <td>[0.2311297088246213, 0.2311297088246213, 0.231...</td>\n",
       "    </tr>\n",
       "    <tr>\n",
       "      <th>13</th>\n",
       "      <td>0.153514</td>\n",
       "      <td>[54, 29, 3, 62, 5, 57]</td>\n",
       "      <td>[0.20113562140712055, 0.20113562140712055, 0.2...</td>\n",
       "    </tr>\n",
       "    <tr>\n",
       "      <th>14</th>\n",
       "      <td>0.153934</td>\n",
       "      <td>[24, 59, 54, 65, 36, 34]</td>\n",
       "      <td>[0.2917266076315779, 0.2917266076315779, 0.291...</td>\n",
       "    </tr>\n",
       "    <tr>\n",
       "      <th>15</th>\n",
       "      <td>0.154944</td>\n",
       "      <td>[59, 4, 62, 0, 30, 18]</td>\n",
       "      <td>[0.26029620712190155, 0.24041646516568171, 0.2...</td>\n",
       "    </tr>\n",
       "    <tr>\n",
       "      <th>16</th>\n",
       "      <td>0.161265</td>\n",
       "      <td>[59, 42, 24, 26, 12, 50]</td>\n",
       "      <td>[0.17798189030642794, 0.17798189030642794, 0.1...</td>\n",
       "    </tr>\n",
       "    <tr>\n",
       "      <th>17</th>\n",
       "      <td>0.162852</td>\n",
       "      <td>[32, 65, 59, 54, 5, 18]</td>\n",
       "      <td>[0.20870876986762799, 0.20870876986762799, 0.2...</td>\n",
       "    </tr>\n",
       "    <tr>\n",
       "      <th>18</th>\n",
       "      <td>0.165357</td>\n",
       "      <td>[38, 58, 30, 27, 59, 48]</td>\n",
       "      <td>[0.2482226243833811, 0.2482226243833811, 0.248...</td>\n",
       "    </tr>\n",
       "    <tr>\n",
       "      <th>19</th>\n",
       "      <td>0.173147</td>\n",
       "      <td>[58, 12, 65, 0, 30, 23]</td>\n",
       "      <td>[0.247203221630084, 0.247203221630084, 0.23028...</td>\n",
       "    </tr>\n",
       "  </tbody>\n",
       "</table>\n",
       "</div>"
      ],
      "text/plain": [
       "         MSE                  solution  \\\n",
       "0   0.103686  [54, 37, 59, 56, 44, 60]   \n",
       "1   0.123132  [57, 65, 54, 15, 31, 59]   \n",
       "2   0.125980  [59, 47, 27, 38, 31, 39]   \n",
       "3   0.130378  [27, 31, 59, 38, 23, 47]   \n",
       "4   0.140822   [18, 0, 62, 44, 67, 59]   \n",
       "5   0.141485  [21, 54, 59, 48, 26, 62]   \n",
       "6   0.142941  [36, 56, 57, 59, 45, 62]   \n",
       "7   0.142954   [0, 11, 27, 59, 44, 53]   \n",
       "8   0.143981  [56, 61, 54, 15, 49, 59]   \n",
       "9   0.146774   [14, 54, 57, 7, 59, 65]   \n",
       "10  0.147919  [27, 59, 53, 47, 46, 56]   \n",
       "11  0.151631  [27, 31, 59, 36, 21, 65]   \n",
       "12  0.152376   [59, 24, 15, 52, 54, 3]   \n",
       "13  0.153514    [54, 29, 3, 62, 5, 57]   \n",
       "14  0.153934  [24, 59, 54, 65, 36, 34]   \n",
       "15  0.154944    [59, 4, 62, 0, 30, 18]   \n",
       "16  0.161265  [59, 42, 24, 26, 12, 50]   \n",
       "17  0.162852   [32, 65, 59, 54, 5, 18]   \n",
       "18  0.165357  [38, 58, 30, 27, 59, 48]   \n",
       "19  0.173147   [58, 12, 65, 0, 30, 23]   \n",
       "\n",
       "                                               growth  \n",
       "0   [0.24819340060350528, 0.24819340060350528, 0.2...  \n",
       "1   [0.1975345659208734, 0.1975345659208734, 0.197...  \n",
       "2   [0.2557832939277691, 0.2557832939277691, 0.255...  \n",
       "3   [0.19363670957271462, 0.19363670957271462, 0.1...  \n",
       "4   [0.3233432002543631, 0.19966051707291904, 0.19...  \n",
       "5   [0.3330814299614094, 0.29708468801187915, 0.27...  \n",
       "6   [0.28697592170412617, 0.28697592170412617, 0.2...  \n",
       "7   [0.22610099053688199, 0.22610099053688199, 0.2...  \n",
       "8   [0.25498320995123497, 0.25498320995123497, 0.1...  \n",
       "9   [0.2144537647782812, 0.2144537647782812, 0.214...  \n",
       "10  [0.30050897416557576, 0.28647347792362826, 0.2...  \n",
       "11  [0.2967636553138359, 0.23310172952908786, 0.23...  \n",
       "12  [0.2311297088246213, 0.2311297088246213, 0.231...  \n",
       "13  [0.20113562140712055, 0.20113562140712055, 0.2...  \n",
       "14  [0.2917266076315779, 0.2917266076315779, 0.291...  \n",
       "15  [0.26029620712190155, 0.24041646516568171, 0.2...  \n",
       "16  [0.17798189030642794, 0.17798189030642794, 0.1...  \n",
       "17  [0.20870876986762799, 0.20870876986762799, 0.2...  \n",
       "18  [0.2482226243833811, 0.2482226243833811, 0.248...  \n",
       "19  [0.247203221630084, 0.247203221630084, 0.23028...  "
      ]
     },
     "execution_count": 40,
     "metadata": {},
     "output_type": "execute_result"
    }
   ],
   "source": [
    "dfBestDM = pd.DataFrame(descMSE_20)\n",
    "dfBestDM.columns=[\"MSE\",\"solution\",\"growth\"]\n",
    "dfBestDM.sort_values('MSE', inplace=True)\n",
    "dfBestDM.reset_index(drop=True, inplace= True)\n"
   ]
  },
  {
   "cell_type": "code",
   "execution_count": 41,
   "metadata": {},
   "outputs": [
    {
     "data": {
      "text/html": [
       "<div>\n",
       "<style scoped>\n",
       "    .dataframe tbody tr th:only-of-type {\n",
       "        vertical-align: middle;\n",
       "    }\n",
       "\n",
       "    .dataframe tbody tr th {\n",
       "        vertical-align: top;\n",
       "    }\n",
       "\n",
       "    .dataframe thead th {\n",
       "        text-align: right;\n",
       "    }\n",
       "</style>\n",
       "<table border=\"1\" class=\"dataframe\">\n",
       "  <thead>\n",
       "    <tr style=\"text-align: right;\">\n",
       "      <th></th>\n",
       "      <th>MSE</th>\n",
       "      <th>solution</th>\n",
       "      <th>growth</th>\n",
       "    </tr>\n",
       "  </thead>\n",
       "  <tbody>\n",
       "    <tr>\n",
       "      <th>0</th>\n",
       "      <td>0.103686</td>\n",
       "      <td>[54, 37, 59, 56, 44, 60]</td>\n",
       "      <td>[0.24819340060350528, 0.24819340060350528, 0.2...</td>\n",
       "    </tr>\n",
       "    <tr>\n",
       "      <th>1</th>\n",
       "      <td>0.123132</td>\n",
       "      <td>[57, 65, 54, 15, 31, 59]</td>\n",
       "      <td>[0.1975345659208734, 0.1975345659208734, 0.197...</td>\n",
       "    </tr>\n",
       "    <tr>\n",
       "      <th>2</th>\n",
       "      <td>0.125980</td>\n",
       "      <td>[59, 47, 27, 38, 31, 39]</td>\n",
       "      <td>[0.2557832939277691, 0.2557832939277691, 0.255...</td>\n",
       "    </tr>\n",
       "    <tr>\n",
       "      <th>3</th>\n",
       "      <td>0.130378</td>\n",
       "      <td>[27, 31, 59, 38, 23, 47]</td>\n",
       "      <td>[0.19363670957271462, 0.19363670957271462, 0.1...</td>\n",
       "    </tr>\n",
       "    <tr>\n",
       "      <th>4</th>\n",
       "      <td>0.140822</td>\n",
       "      <td>[18, 0, 62, 44, 67, 59]</td>\n",
       "      <td>[0.3233432002543631, 0.19966051707291904, 0.19...</td>\n",
       "    </tr>\n",
       "    <tr>\n",
       "      <th>5</th>\n",
       "      <td>0.141485</td>\n",
       "      <td>[21, 54, 59, 48, 26, 62]</td>\n",
       "      <td>[0.3330814299614094, 0.29708468801187915, 0.27...</td>\n",
       "    </tr>\n",
       "    <tr>\n",
       "      <th>6</th>\n",
       "      <td>0.142941</td>\n",
       "      <td>[36, 56, 57, 59, 45, 62]</td>\n",
       "      <td>[0.28697592170412617, 0.28697592170412617, 0.2...</td>\n",
       "    </tr>\n",
       "    <tr>\n",
       "      <th>7</th>\n",
       "      <td>0.142954</td>\n",
       "      <td>[0, 11, 27, 59, 44, 53]</td>\n",
       "      <td>[0.22610099053688199, 0.22610099053688199, 0.2...</td>\n",
       "    </tr>\n",
       "    <tr>\n",
       "      <th>8</th>\n",
       "      <td>0.143981</td>\n",
       "      <td>[56, 61, 54, 15, 49, 59]</td>\n",
       "      <td>[0.25498320995123497, 0.25498320995123497, 0.1...</td>\n",
       "    </tr>\n",
       "    <tr>\n",
       "      <th>9</th>\n",
       "      <td>0.146774</td>\n",
       "      <td>[14, 54, 57, 7, 59, 65]</td>\n",
       "      <td>[0.2144537647782812, 0.2144537647782812, 0.214...</td>\n",
       "    </tr>\n",
       "    <tr>\n",
       "      <th>10</th>\n",
       "      <td>0.147919</td>\n",
       "      <td>[27, 59, 53, 47, 46, 56]</td>\n",
       "      <td>[0.30050897416557576, 0.28647347792362826, 0.2...</td>\n",
       "    </tr>\n",
       "    <tr>\n",
       "      <th>11</th>\n",
       "      <td>0.151631</td>\n",
       "      <td>[27, 31, 59, 36, 21, 65]</td>\n",
       "      <td>[0.2967636553138359, 0.23310172952908786, 0.23...</td>\n",
       "    </tr>\n",
       "    <tr>\n",
       "      <th>12</th>\n",
       "      <td>0.152376</td>\n",
       "      <td>[59, 24, 15, 52, 54, 3]</td>\n",
       "      <td>[0.2311297088246213, 0.2311297088246213, 0.231...</td>\n",
       "    </tr>\n",
       "    <tr>\n",
       "      <th>13</th>\n",
       "      <td>0.153514</td>\n",
       "      <td>[54, 29, 3, 62, 5, 57]</td>\n",
       "      <td>[0.20113562140712055, 0.20113562140712055, 0.2...</td>\n",
       "    </tr>\n",
       "    <tr>\n",
       "      <th>14</th>\n",
       "      <td>0.153934</td>\n",
       "      <td>[24, 59, 54, 65, 36, 34]</td>\n",
       "      <td>[0.2917266076315779, 0.2917266076315779, 0.291...</td>\n",
       "    </tr>\n",
       "    <tr>\n",
       "      <th>15</th>\n",
       "      <td>0.154944</td>\n",
       "      <td>[59, 4, 62, 0, 30, 18]</td>\n",
       "      <td>[0.26029620712190155, 0.24041646516568171, 0.2...</td>\n",
       "    </tr>\n",
       "    <tr>\n",
       "      <th>16</th>\n",
       "      <td>0.161265</td>\n",
       "      <td>[59, 42, 24, 26, 12, 50]</td>\n",
       "      <td>[0.17798189030642794, 0.17798189030642794, 0.1...</td>\n",
       "    </tr>\n",
       "    <tr>\n",
       "      <th>17</th>\n",
       "      <td>0.162852</td>\n",
       "      <td>[32, 65, 59, 54, 5, 18]</td>\n",
       "      <td>[0.20870876986762799, 0.20870876986762799, 0.2...</td>\n",
       "    </tr>\n",
       "    <tr>\n",
       "      <th>18</th>\n",
       "      <td>0.165357</td>\n",
       "      <td>[38, 58, 30, 27, 59, 48]</td>\n",
       "      <td>[0.2482226243833811, 0.2482226243833811, 0.248...</td>\n",
       "    </tr>\n",
       "    <tr>\n",
       "      <th>19</th>\n",
       "      <td>0.173147</td>\n",
       "      <td>[58, 12, 65, 0, 30, 23]</td>\n",
       "      <td>[0.247203221630084, 0.247203221630084, 0.23028...</td>\n",
       "    </tr>\n",
       "  </tbody>\n",
       "</table>\n",
       "</div>"
      ],
      "text/plain": [
       "         MSE                  solution  \\\n",
       "0   0.103686  [54, 37, 59, 56, 44, 60]   \n",
       "1   0.123132  [57, 65, 54, 15, 31, 59]   \n",
       "2   0.125980  [59, 47, 27, 38, 31, 39]   \n",
       "3   0.130378  [27, 31, 59, 38, 23, 47]   \n",
       "4   0.140822   [18, 0, 62, 44, 67, 59]   \n",
       "5   0.141485  [21, 54, 59, 48, 26, 62]   \n",
       "6   0.142941  [36, 56, 57, 59, 45, 62]   \n",
       "7   0.142954   [0, 11, 27, 59, 44, 53]   \n",
       "8   0.143981  [56, 61, 54, 15, 49, 59]   \n",
       "9   0.146774   [14, 54, 57, 7, 59, 65]   \n",
       "10  0.147919  [27, 59, 53, 47, 46, 56]   \n",
       "11  0.151631  [27, 31, 59, 36, 21, 65]   \n",
       "12  0.152376   [59, 24, 15, 52, 54, 3]   \n",
       "13  0.153514    [54, 29, 3, 62, 5, 57]   \n",
       "14  0.153934  [24, 59, 54, 65, 36, 34]   \n",
       "15  0.154944    [59, 4, 62, 0, 30, 18]   \n",
       "16  0.161265  [59, 42, 24, 26, 12, 50]   \n",
       "17  0.162852   [32, 65, 59, 54, 5, 18]   \n",
       "18  0.165357  [38, 58, 30, 27, 59, 48]   \n",
       "19  0.173147   [58, 12, 65, 0, 30, 23]   \n",
       "\n",
       "                                               growth  \n",
       "0   [0.24819340060350528, 0.24819340060350528, 0.2...  \n",
       "1   [0.1975345659208734, 0.1975345659208734, 0.197...  \n",
       "2   [0.2557832939277691, 0.2557832939277691, 0.255...  \n",
       "3   [0.19363670957271462, 0.19363670957271462, 0.1...  \n",
       "4   [0.3233432002543631, 0.19966051707291904, 0.19...  \n",
       "5   [0.3330814299614094, 0.29708468801187915, 0.27...  \n",
       "6   [0.28697592170412617, 0.28697592170412617, 0.2...  \n",
       "7   [0.22610099053688199, 0.22610099053688199, 0.2...  \n",
       "8   [0.25498320995123497, 0.25498320995123497, 0.1...  \n",
       "9   [0.2144537647782812, 0.2144537647782812, 0.214...  \n",
       "10  [0.30050897416557576, 0.28647347792362826, 0.2...  \n",
       "11  [0.2967636553138359, 0.23310172952908786, 0.23...  \n",
       "12  [0.2311297088246213, 0.2311297088246213, 0.231...  \n",
       "13  [0.20113562140712055, 0.20113562140712055, 0.2...  \n",
       "14  [0.2917266076315779, 0.2917266076315779, 0.291...  \n",
       "15  [0.26029620712190155, 0.24041646516568171, 0.2...  \n",
       "16  [0.17798189030642794, 0.17798189030642794, 0.1...  \n",
       "17  [0.20870876986762799, 0.20870876986762799, 0.2...  \n",
       "18  [0.2482226243833811, 0.2482226243833811, 0.248...  \n",
       "19  [0.247203221630084, 0.247203221630084, 0.23028...  "
      ]
     },
     "execution_count": 41,
     "metadata": {},
     "output_type": "execute_result"
    }
   ],
   "source": [
    "dfBestDM"
   ]
  },
  {
   "cell_type": "code",
   "execution_count": 46,
   "metadata": {},
   "outputs": [
    {
     "data": {
      "text/plain": [
       "['TDB7i', 'ATSC2i.1', 'RDF45m', 'TDB10i', 'VR2_Dzi.1', 'RDF60m']"
      ]
     },
     "execution_count": 46,
     "metadata": {},
     "output_type": "execute_result"
    }
   ],
   "source": [
    "bestDescriptor = []\n",
    "for i in dfBestDM.iloc[0,1]:\n",
    "    bestDescriptor.append(descName[i])\n",
    "\n",
    "# bestMSEGrowth = dfBestDM.iloc[0,2]"
   ]
  },
  {
   "cell_type": "code",
   "execution_count": 20,
   "metadata": {},
   "outputs": [],
   "source": [
    "# Pickle descriptor name\n",
    "pickle.dump(descMSE_20, open('./pickle/VOL2/Raw_MSE_VOL2.pkl', 'wb'))\n",
    "pickle.dump(dfBestDM, open('./pickle/VOL2/MSE_Evol_VOL2.pkl', 'wb'))\n",
    "pickle.dump(bestDescriptor, open('./pickle/VOL2/bestDesc_VOL2.pkl', 'wb'))\n",
    "pickle.dump(bestMSEGrowth, open('./pickle/VOL2/bestMSEGrowth_VOL2.pkl','wb'))"
   ]
  },
  {
   "cell_type": "code",
   "execution_count": 28,
   "metadata": {},
   "outputs": [
    {
     "data": {
      "text/plain": [
       "['TDB7i', 'ATSC2i.1', 'RDF45m', 'TDB10i', 'VR2_Dzi.1', 'RDF60m']"
      ]
     },
     "execution_count": 28,
     "metadata": {},
     "output_type": "execute_result"
    }
   ],
   "source": [
    "MSE_Evol = pickle.load(open('./pickle/VOL2/MSE_Evol_VOL2.pkl', 'rb'))\n",
    "BeDesc = pickle.load(open('./pickle/VOL2/bestDesc_VOL2.pkl', 'rb'))\n",
    "BeDesc"
   ]
  },
  {
   "cell_type": "code",
   "execution_count": 23,
   "metadata": {},
   "outputs": [
    {
     "data": {
      "text/plain": [
       "Text(0, 0.5, 'MSE')"
      ]
     },
     "execution_count": 23,
     "metadata": {},
     "output_type": "execute_result"
    },
    {
     "data": {
      "image/png": "[encoded data removed]",
      "text/plain": [
       "<Figure size 432x288 with 1 Axes>"
      ]
     },
     "metadata": {
      "needs_background": "light"
     },
     "output_type": "display_data"
    }
   ],
   "source": [
    "type(MSE_Evol)\n",
    "# MSE_Evol\n",
    "dfBestDM = MSE_Evol.sort_values('MSE', ascending=False)\n",
    "df = dfBestDM.reset_index(drop=True)\n",
    "df.index += 1\n",
    "dfPlot = df.plot.bar()\n",
    "dfPlot.set_xlabel(\"Iteration\")\n",
    "dfPlot.set_ylabel(\"MSE\")"
   ]
  },
  {
   "cell_type": "code",
   "execution_count": null,
   "metadata": {},
   "outputs": [],
   "source": [
    "############## CUSTOMIZED CODE ##################################"
   ]
  },
  {
   "cell_type": "code",
   "execution_count": null,
   "metadata": {
    "scrolled": true
   },
   "outputs": [],
   "source": [
    "# bestMSEList\n",
    "dfBest.columns = [\"mse\",\"solution\"]\n",
    "dfBest.sort_values('mse', inplace=True)\n",
    "dfBest.reset_index(drop=True, inplace= True)\n",
    "dfBest"
   ]
  },
  {
   "cell_type": "code",
   "execution_count": null,
   "metadata": {},
   "outputs": [],
   "source": [
    "bestSolution = dfBest.loc[0,'solution']\n",
    "bestSolution = list(bestSolution)\n",
    "bestSolution.sort()\n",
    "bestSolution"
   ]
  },
  {
   "cell_type": "code",
   "execution_count": null,
   "metadata": {},
   "outputs": [],
   "source": [
    "bestDescriptor = []\n",
    "\n",
    "for i in bestSolution:\n",
    "    bestDescriptor.append(descName[i])\n",
    "bestDescriptor"
   ]
  },
  {
   "cell_type": "code",
   "execution_count": null,
   "metadata": {},
   "outputs": [],
   "source": [
    "mseNdarray = np.asarray(bestMSEList)\n",
    "type(mseNdarray)\n",
    "mseNdarray.dump(\"./bestMSEList_2.pkl\")\n",
    "dfBest.iloc[-1][1].dump(\"./bestDesc_2.pkl\")"
   ]
  },
  {
   "cell_type": "code",
   "execution_count": null,
   "metadata": {},
   "outputs": [],
   "source": [
    "len(mseNdarray)\n",
    "np.arange(0,len(mseNdarray),1)"
   ]
  },
  {
   "cell_type": "code",
   "execution_count": null,
   "metadata": {},
   "outputs": [],
   "source": [
    "import matplotlib.pyplot as plt\n",
    "import numpy as np\n",
    "\n",
    "#define variable x\n",
    "x = np.arange(0,len(mseNdarray),1)\n",
    "y = mseNdarray \n",
    "\n",
    "#plot the functions\n",
    "plt.grid()\n",
    "plt.xlabel(\"Iteration\")\n",
    "plt.ylabel(\"Mean Squared Error (MSE)\")\n",
    "\n",
    "plt.plot(x,y)"
   ]
  },
  {
   "cell_type": "code",
   "execution_count": null,
   "metadata": {},
   "outputs": [],
   "source": [
    "MSE_Evol = pickle.load(open('./data/MSE_EvolutionV2.pkl', 'rb'))\n",
    "bestDesc = pickle.load(open('./data/bestDescV2.pkl', 'rb'))\n",
    "bestMSEGrowth = pickle.load(open('./data/bestMSEGrowthV2.pkl', 'rb'))"
   ]
  },
  {
   "cell_type": "code",
   "execution_count": null,
   "metadata": {},
   "outputs": [],
   "source": [
    "bestDesc, MSE_Evol, bestMSEGrowth"
   ]
  },
  {
   "cell_type": "code",
   "execution_count": null,
   "metadata": {
    "scrolled": true
   },
   "outputs": [],
   "source": [
    "bestMSEGrowth"
   ]
  },
  {
   "cell_type": "code",
   "execution_count": null,
   "metadata": {
    "code_folding": [
     0
    ]
   },
   "outputs": [],
   "source": [
    "# First Best Run\n",
    "# BestDescriptors=  [31,18,54,36,8,51]\n",
    "# BestMSE =  0.24519892533514573\n",
    "\n",
    "# Second Best Run\n",
    "# Best Descriptors :  [53 61 18 69 36 34]\n",
    "# Best MSE :  0.22850883728849938\n",
    "\n",
    "# Best Descriptors :  [40 11  5 67 64 69]\n",
    "# Best MSE :  0.22858482530945248\n",
    "\n",
    "# Best Descriptors :  [38 51 55 58 36 18]\n",
    "# Best MSE :  0.20720460921006825"
   ]
  },
  {
   "cell_type": "code",
   "execution_count": null,
   "metadata": {
    "code_folding": [
     0
    ]
   },
   "outputs": [],
   "source": [
    "# ### Smallest Values before run 20s\n",
    "# bs = [38, 51, 55, 58, 36, 18]\n",
    "# bs.sort()\n",
    "# bs"
   ]
  },
  {
   "cell_type": "code",
   "execution_count": null,
   "metadata": {
    "code_folding": [
     0
    ]
   },
   "outputs": [],
   "source": [
    "# bds = []\n",
    "# for i in bs:\n",
    "#     bds.append(descName[i])\n",
    "# bds"
   ]
  },
  {
   "cell_type": "code",
   "execution_count": null,
   "metadata": {
    "code_folding": []
   },
   "outputs": [],
   "source": [
    "# pickle.dump(bds,open('./BestDescriptor.pkl','wb'))"
   ]
  }
 ],
 "metadata": {
  "kernelspec": {
   "display_name": "Python 3",
   "language": "python",
   "name": "python3"
  },
  "language_info": {
   "codemirror_mode": {
    "name": "ipython",
    "version": 3
   },
   "file_extension": ".py",
   "mimetype": "text/x-python",
   "name": "python",
   "nbconvert_exporter": "python",
   "pygments_lexer": "ipython3",
   "version": "3.8.2"
  }
 },
 "nbformat": 4,
 "nbformat_minor": 4
}
