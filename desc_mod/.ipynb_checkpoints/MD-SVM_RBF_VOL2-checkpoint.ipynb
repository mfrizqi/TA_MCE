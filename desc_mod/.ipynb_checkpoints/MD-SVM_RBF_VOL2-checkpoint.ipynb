{
 "cells": [
  {
   "cell_type": "code",
   "execution_count": 3,
   "metadata": {},
   "outputs": [],
   "source": [
    "import pandas as pd \n",
    "import numpy as np\n",
    "import pickle\n",
    "import matplotlib.pyplot as plt\n",
    "from sklearn import svm\n",
    "from sklearn.svm import SVR\n",
    "from sklearn.model_selection import GridSearchCV\n",
    "from sklearn.model_selection import train_test_split\n",
    "from sklearn.metrics import r2_score\n",
    "from sklearn.metrics import mean_squared_error\n",
    "from sklearn.preprocessing import MinMaxScaler\n",
    "from sklearn.preprocessing import StandardScaler"
   ]
  },
  {
   "cell_type": "code",
   "execution_count": 7,
   "metadata": {
    "code_folding": []
   },
   "outputs": [
    {
     "data": {
      "text/plain": [
       "['TDB7i', 'ATSC2i.1', 'RDF45m', 'TDB10i', 'VR2_Dzi.1', 'RDF60m']"
      ]
     },
     "execution_count": 7,
     "metadata": {},
     "output_type": "execute_result"
    }
   ],
   "source": [
    "bestDesc = pickle.load(open('./pickle/VOL2/bestDesc_VOL2.pkl', 'rb'))\n",
    "train = pickle.load(open('./pickle/train_VOL2.pkl', 'rb'))\n",
    "test = pickle.load(open('./pickle/test_VOL2.pkl', 'rb'))\n",
    "bestDesc"
   ]
  },
  {
   "cell_type": "code",
   "execution_count": 8,
   "metadata": {},
   "outputs": [
    {
     "data": {
      "text/plain": [
       "((74, 6), (19, 6))"
      ]
     },
     "execution_count": 8,
     "metadata": {},
     "output_type": "execute_result"
    }
   ],
   "source": [
    "dfTrain = train.loc[:,bestDesc]\n",
    "dfTest = test.loc[:,bestDesc]\n",
    "\n",
    "dfTrain.shape, dfTest.shape"
   ]
  },
  {
   "cell_type": "code",
   "execution_count": 9,
   "metadata": {
    "code_folding": []
   },
   "outputs": [],
   "source": [
    "# 0. Preparation Data\n",
    "x_train = dfTrain.iloc[:,:]\n",
    "x_test = dfTest.iloc[:,:]\n",
    "y_train = train.iloc[:, [-1]]\n",
    "y_test = test.iloc[:,[-1]]"
   ]
  },
  {
   "cell_type": "code",
   "execution_count": 35,
   "metadata": {},
   "outputs": [],
   "source": [
    "# Feature Scaler using standard scaler\n",
    "# sc = StandardScaler()\n",
    "# scale_x_train = sc.fit_transform(x_train)\n",
    "# scala_x_test = sc.transform(x_test)"
   ]
  },
  {
   "cell_type": "code",
   "execution_count": 36,
   "metadata": {},
   "outputs": [],
   "source": [
    "# Feature Scaler\n",
    "# Using MinMaxScaler()\n",
    "# scaler = MinMaxScaler()\n",
    "# scaler.fit(x_train)\n",
    "# scale_x_train = scaler.transform(x_train)\n",
    "# scale_x_test = scaler.transform(x_test)"
   ]
  },
  {
   "cell_type": "code",
   "execution_count": 10,
   "metadata": {
    "code_folding": []
   },
   "outputs": [],
   "source": [
    "param_grid={\n",
    "            'C': [0.1, 1, 10, 100, 1000],\n",
    "            'gamma': ['auto','scale'],\n",
    "}"
   ]
  },
  {
   "cell_type": "code",
   "execution_count": 11,
   "metadata": {},
   "outputs": [
    {
     "name": "stderr",
     "output_type": "stream",
     "text": [
      "c:\\users\\muhammad fajar rizqi\\appdata\\local\\programs\\python\\python38-32\\lib\\site-packages\\sklearn\\utils\\validation.py:760: DataConversionWarning: A column-vector y was passed when a 1d array was expected. Please change the shape of y to (n_samples, ), for example using ravel().\n",
      "  y = column_or_1d(y, warn=True)\n"
     ]
    },
    {
     "data": {
      "text/plain": [
       "GridSearchCV(cv=5, error_score=nan,\n",
       "             estimator=SVR(C=1.0, cache_size=200, coef0=0.0, degree=3,\n",
       "                           epsilon=0.1, gamma='scale', kernel='rbf',\n",
       "                           max_iter=-1, shrinking=True, tol=0.001,\n",
       "                           verbose=False),\n",
       "             iid='deprecated', n_jobs=-1,\n",
       "             param_grid={'C': [0.1, 1, 10, 100, 1000],\n",
       "                         'gamma': ['auto', 'scale']},\n",
       "             pre_dispatch='2*n_jobs', refit=True, return_train_score=False,\n",
       "             scoring='neg_mean_squared_error', verbose=0)"
      ]
     },
     "execution_count": 11,
     "metadata": {},
     "output_type": "execute_result"
    }
   ],
   "source": [
    "gsc = GridSearchCV(\n",
    "        estimator=SVR(kernel='rbf'),\n",
    "        param_grid=param_grid,\n",
    "        cv=5, scoring='neg_mean_squared_error', verbose=0, n_jobs=-1)\n",
    "\n",
    "gsc.fit(x_train, y_train)"
   ]
  },
  {
   "cell_type": "code",
   "execution_count": 12,
   "metadata": {},
   "outputs": [
    {
     "data": {
      "text/plain": [
       "{'C': 1000, 'gamma': 'scale'}"
      ]
     },
     "execution_count": 12,
     "metadata": {},
     "output_type": "execute_result"
    }
   ],
   "source": [
    "gsc.best_params_"
   ]
  },
  {
   "cell_type": "code",
   "execution_count": 13,
   "metadata": {},
   "outputs": [
    {
     "name": "stdout",
     "output_type": "stream",
     "text": [
      "Best score: -0.30624176761345523\n"
     ]
    }
   ],
   "source": [
    "# View the accuracy score\n",
    "print('Best score:', gsc.best_score_) "
   ]
  },
  {
   "cell_type": "code",
   "execution_count": 14,
   "metadata": {},
   "outputs": [
    {
     "name": "stdout",
     "output_type": "stream",
     "text": [
      "Best C: 1000\n",
      "Best Kernel: rbf\n",
      "Best Gamma: scale\n"
     ]
    }
   ],
   "source": [
    "# View the best parameters for the model found using grid search\n",
    "print('Best C:',gsc.best_estimator_.C) \n",
    "print('Best Kernel:',gsc.best_estimator_.kernel)\n",
    "print('Best Gamma:',gsc.best_estimator_.gamma)"
   ]
  },
  {
   "cell_type": "code",
   "execution_count": 15,
   "metadata": {},
   "outputs": [
    {
     "data": {
      "text/plain": [
       "SVR(C=1000, cache_size=200, coef0=0.0, degree=3, epsilon=0.1, gamma='scale',\n",
       "    kernel='rbf', max_iter=-1, shrinking=True, tol=0.001, verbose=False)"
      ]
     },
     "execution_count": 15,
     "metadata": {},
     "output_type": "execute_result"
    }
   ],
   "source": [
    "model = SVR(C=gsc.best_params_['C'],kernel=\"rbf\", gamma=gsc.best_params_['gamma'])\n",
    "model"
   ]
  },
  {
   "cell_type": "code",
   "execution_count": 16,
   "metadata": {},
   "outputs": [
    {
     "name": "stderr",
     "output_type": "stream",
     "text": [
      "c:\\users\\muhammad fajar rizqi\\appdata\\local\\programs\\python\\python38-32\\lib\\site-packages\\sklearn\\utils\\validation.py:760: DataConversionWarning: A column-vector y was passed when a 1d array was expected. Please change the shape of y to (n_samples, ), for example using ravel().\n",
      "  y = column_or_1d(y, warn=True)\n"
     ]
    },
    {
     "data": {
      "text/plain": [
       "SVR(C=1000, cache_size=200, coef0=0.0, degree=3, epsilon=0.1, gamma='scale',\n",
       "    kernel='rbf', max_iter=-1, shrinking=True, tol=0.001, verbose=False)"
      ]
     },
     "execution_count": 16,
     "metadata": {},
     "output_type": "execute_result"
    }
   ],
   "source": [
    "model.fit(x_train, y_train)"
   ]
  },
  {
   "cell_type": "code",
   "execution_count": 17,
   "metadata": {},
   "outputs": [
    {
     "data": {
      "text/plain": [
       "(array([6.34101313, 7.06686516, 6.42790595, 6.78703703, 7.9982741 ,\n",
       "        7.49817784, 6.1756996 , 6.53542917, 7.64213087, 6.92584915,\n",
       "        6.19728062, 7.72199318, 6.72889842, 7.30845344, 6.39940913,\n",
       "        7.57551027, 7.09449086, 7.17470319, 6.87101736, 7.14423658,\n",
       "        7.77837535, 7.26631794, 7.22143387, 7.10308023, 6.63145458,\n",
       "        7.95318514, 7.4335679 , 6.61503101, 6.57592494, 8.44545028,\n",
       "        6.55626377, 6.69853761, 7.67790251, 7.68531026, 6.17642289,\n",
       "        8.12520224, 6.53131369, 7.88410649, 5.98917865, 6.26442324,\n",
       "        7.14789711, 7.8549114 , 7.63448541, 7.6435368 , 7.99684533,\n",
       "        6.69122866, 7.29818263, 6.56887738, 7.91750992, 6.8105192 ,\n",
       "        7.81158342, 6.80571079, 7.94655801, 7.73963552, 6.36597053,\n",
       "        7.46798262, 6.7323921 , 7.5626175 , 7.01302341, 7.10191423,\n",
       "        7.80998128, 6.31269024, 6.36836574, 6.16435526, 7.33992528,\n",
       "        6.98048747, 7.43684944, 6.96667157, 7.78476864, 6.65007986,\n",
       "        6.97190721, 6.82360437, 6.36762902, 8.51465528]),\n",
       " array([5.52065755, 5.67343084, 6.89143826, 7.96226748, 7.94108428,\n",
       "        7.92414291, 7.05349534, 7.17246568, 6.43235879, 7.21322397,\n",
       "        7.57651252, 6.45229946, 6.34344349, 6.76887211, 6.8913208 ,\n",
       "        7.4700421 , 7.06686516, 7.34492909, 7.71858468]))"
      ]
     },
     "execution_count": 17,
     "metadata": {},
     "output_type": "execute_result"
    }
   ],
   "source": [
    "y_train_pred = model.predict(x_train)\n",
    "y_test_pred = model.predict(x_test)\n",
    "y_train_pred, y_test_pred"
   ]
  },
  {
   "cell_type": "code",
   "execution_count": 18,
   "metadata": {},
   "outputs": [
    {
     "data": {
      "text/plain": [
       "(0.5197641130010258, 0.4073788575322521)"
      ]
     },
     "execution_count": 18,
     "metadata": {},
     "output_type": "execute_result"
    }
   ],
   "source": [
    "r2_train = r2_score(y_train,y_train_pred)\n",
    "r2_test = r2_score(y_test,y_test_pred)\n",
    "\n",
    "r2_train, r2_test"
   ]
  },
  {
   "cell_type": "code",
   "execution_count": 19,
   "metadata": {
    "code_folding": [
     0
    ]
   },
   "outputs": [
    {
     "name": "stdout",
     "output_type": "stream",
     "text": [
      "[4.456] 5.520657550146517\n",
      "[4.347] 5.673430840145066\n",
      "[6.065] 6.891438261326208\n",
      "[6.886] 7.962267482822504\n",
      "[7.796] 7.941084279979542\n",
      "[8.187] 7.9241429118083815\n",
      "[7.076] 7.053495339468974\n",
      "[6.046] 7.172465684715085\n",
      "[8.155] 6.432358785958023\n",
      "[7.174] 7.213223971765238\n",
      "[8.155] 7.576512524307155\n",
      "[7.678] 6.452299456123988\n",
      "[5.347] 6.343443492501443\n",
      "[6.947] 6.7688721092085515\n",
      "[6.319] 6.891320797312083\n",
      "[5.854] 7.470042100348756\n",
      "[7.699] 7.066865158991469\n",
      "[7.194] 7.344929091331743\n",
      "[8.046] 7.718584680783316\n"
     ]
    }
   ],
   "source": [
    "for i in range(len(y_test)):\n",
    "    print(y_test.values[i], y_test_pred[i])"
   ]
  },
  {
   "cell_type": "code",
   "execution_count": null,
   "metadata": {},
   "outputs": [],
   "source": [
    "################################"
   ]
  },
  {
   "cell_type": "code",
   "execution_count": 18,
   "metadata": {},
   "outputs": [],
   "source": [
    "# mse = mean_squared_error(y_test,y_pred)\n",
    "# rmse = np.sqrt(mse)\n",
    "# print(\"RMSE :\" , rmse)"
   ]
  },
  {
   "cell_type": "code",
   "execution_count": 19,
   "metadata": {},
   "outputs": [],
   "source": [
    "# r2 = r2_score(y_test,pred)\n",
    "# print(\"r2 :\",r2)"
   ]
  },
  {
   "cell_type": "code",
   "execution_count": 20,
   "metadata": {
    "code_folding": [
     1
    ],
    "scrolled": true
   },
   "outputs": [],
   "source": [
    "# Testing 1 descriptor\n",
    "# df = pd.DataFrame(list(zip(dfDesc.iloc[:,0], dtTrain.iloc[:,-1])), \n",
    "#                columns =[dfDesc.columns.values[1], dtTrain.columns.values[-1]])\n",
    "# df"
   ]
  },
  {
   "cell_type": "code",
   "execution_count": 23,
   "metadata": {
    "code_folding": [
     0
    ]
   },
   "outputs": [],
   "source": [
    "# # Get x & y for plot\n",
    "# X = df.iloc[:,0]\n",
    "# y = df.iloc[:,-1]\n",
    "# X = X.to_numpy()\n",
    "# X = X.reshape(-1,1)"
   ]
  },
  {
   "cell_type": "code",
   "execution_count": null,
   "metadata": {
    "code_folding": [
     0
    ]
   },
   "outputs": [],
   "source": [
    "### SVM Here\n",
    "\n",
    "# Fit regression model\n",
    "svr_rbf = SVR(kernel='rbf', C=1000, gamma=0.1, epsilon=.1)\n",
    "svr_lin = SVR(kernel='linear', C=1000, gamma=0.1)\n",
    "svr_poly = SVR(kernel='poly', C=1000, gamma=0.1, degree=0, epsilon=.1,\n",
    "               coef0=1)"
   ]
  },
  {
   "cell_type": "code",
   "execution_count": null,
   "metadata": {},
   "outputs": [],
   "source": [
    "plt.scatter(y_train,y_train_pred)"
   ]
  },
  {
   "cell_type": "code",
   "execution_count": null,
   "metadata": {},
   "outputs": [],
   "source": []
  }
 ],
 "metadata": {
  "kernelspec": {
   "display_name": "Python 3",
   "language": "python",
   "name": "python3"
  },
  "language_info": {
   "codemirror_mode": {
    "name": "ipython",
    "version": 3
   },
   "file_extension": ".py",
   "mimetype": "text/x-python",
   "name": "python",
   "nbconvert_exporter": "python",
   "pygments_lexer": "ipython3",
   "version": "3.8.2"
  }
 },
 "nbformat": 4,
 "nbformat_minor": 4
}
