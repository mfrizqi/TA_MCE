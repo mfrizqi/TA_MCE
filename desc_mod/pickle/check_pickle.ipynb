{
 "cells": [
  {
   "cell_type": "code",
   "execution_count": 2,
   "metadata": {},
   "outputs": [],
   "source": [
    "import warnings\n",
    "import pandas as pd \n",
    "import numpy as np\n",
    "import pickle "
   ]
  },
  {
   "cell_type": "code",
   "execution_count": 16,
   "metadata": {},
   "outputs": [
    {
     "data": {
      "text/plain": [
       "['ATSC5dv',\n",
       " 'ATSC8dv',\n",
       " 'nHBint8',\n",
       " 'VR2_Dzi.1',\n",
       " 'SlogP_VSA3',\n",
       " 'minHBint8',\n",
       " 'PEOE_VSA9',\n",
       " 'AATSC6v.1',\n",
       " 'maxHBint10']"
      ]
     },
     "execution_count": 16,
     "metadata": {},
     "output_type": "execute_result"
    }
   ],
   "source": [
    "evol_9 = pickle.load(open('./Evol_MSE9.pkl','rb'))\n",
    "raw_9 = pickle.load(open('./Raw_MSE9.pkl','rb'))\n",
    "bd_9 = pickle.load(open('./bestDesc9.pkl','rb'))\n",
    "\n",
    "bd_9"
   ]
  },
  {
   "cell_type": "code",
   "execution_count": 15,
   "metadata": {},
   "outputs": [
    {
     "data": {
      "text/plain": [
       "<matplotlib.axes._subplots.AxesSubplot at 0xc59f970>"
      ]
     },
     "execution_count": 15,
     "metadata": {},
     "output_type": "execute_result"
    },
    {
     "data": {
      "image/png": "[encoded data removed]",
      "text/plain": [
       "<Figure size 432x288 with 1 Axes>"
      ]
     },
     "metadata": {
      "needs_background": "light"
     },
     "output_type": "display_data"
    }
   ],
   "source": [
    "dfRaw = pd.DataFrame(raw_9)\n",
    "dfRaw.index += 1\n",
    "dfRaw.plot.bar()"
   ]
  },
  {
   "cell_type": "code",
   "execution_count": null,
   "metadata": {},
   "outputs": [],
   "source": []
  }
 ],
 "metadata": {
  "kernelspec": {
   "display_name": "Python 3",
   "language": "python",
   "name": "python3"
  },
  "language_info": {
   "codemirror_mode": {
    "name": "ipython",
    "version": 3
   },
   "file_extension": ".py",
   "mimetype": "text/x-python",
   "name": "python",
   "nbconvert_exporter": "python",
   "pygments_lexer": "ipython3",
   "version": "3.8.2"
  }
 },
 "nbformat": 4,
 "nbformat_minor": 4
}
